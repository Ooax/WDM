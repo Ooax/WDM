{
 "cells": [
  {
   "cell_type": "markdown",
   "metadata": {},
   "source": [
    "# Wprowadzenie: Python, notatnik Jupyter, numpy, ..."
   ]
  },
  {
   "cell_type": "markdown",
   "metadata": {},
   "source": [
    "## Ćwiczenia składni Markdown \n",
    "\n",
    "Tutaj ściąga: https://github.com/adam-p/markdown-here/wiki/Markdown-Cheatsheet\n",
    "\n",
    "# Nagłowek 1 \n",
    "## Nagłowek 2 \n",
    "### Nagłowek 3 \n",
    "#### Nagłowek 4 \n",
    "##### Nagłowek 5\n",
    "\n",
    "### Tekst\n",
    "\n",
    "Normalny tekst, **pogrubiony** lub __pogrubiony__, lub *kursywa* albo _kursywa_.\n",
    "\n",
    "Akapity oddzielone pustą linią\n",
    "\n",
    "### Listy\n",
    "\n",
    "Lista wypunktowana\n",
    "* element 1\n",
    "* element 2\n",
    "\n",
    "Lista numerowana:\n",
    "1. Lists can also be numbered.\n",
    "2. For ordered lists.\n",
    "\n",
    "### Linki\n",
    "\n",
    "[Adres odnośnika](https://www.dataquest.io/blog/jupyter-notebook-tutorial/)\n",
    "\n",
    "### Fragmenty kodu \n",
    "\n",
    "Kod umieszczone w tekście `foo()` lub w osobnym bloku, w taki sposób:\n",
    "```\n",
    "print('Witaj świecie')\n",
    "```\n",
    "\n",
    "lub w taki\n",
    "\n",
    "    print('Witaj świecie')\n",
    "\n",
    "### Obrazy\n",
    "\n",
    "![Python logo](https://www.python.org/static/community_logos/python-logo-master-v3-TM.png)\n",
    "\n",
    "### Wzory w formacie $\\LaTeX$\n",
    "\n",
    "$ \\frac{\\int^\\infty_0{x}dx}{2}$\n",
    "\n",
    "\n",
    "### Tabelka \n",
    "\n",
    "\n",
    "| Tables        | Are           | Cool  |\n",
    "| ------------- |:-------------:| -----:|\n",
    "| col 3 is      | right-aligned | $1600 |\n",
    "| col 2 is      | centered      |   $12 |\n",
    "| zebra stripes | are neat      |    $1 |"
   ]
  },
  {
   "cell_type": "markdown",
   "metadata": {},
   "source": [
    "Notatnik Jupyter - przydatne skróty klawiszowe\n",
    "================\n",
    "\n",
    "## Tryby pracy:\n",
    "\n",
    "* `Enter` tryb **edycji komórki**. Edycja kodu lub tekstu Markdown.\n",
    "* `Ecs`  tryb **komend** (wyjście z trybu edycji). Daje możliwość zaznaczania i manipulacji na komórkach, np. usuwanie, przemieszczanie, tworzenie nowych komurek.\n",
    "\n",
    "## Uruchamiania komórek\n",
    "\n",
    "- `Shift` + `Enter` uruchamia komórkę\n",
    "- `Alt` + `Enter` uruchamia komórkę i dodaje nową, pustą komórkę\n",
    "\n",
    "## Pomoc\n",
    "\n",
    "- `Shift` + `Tab` dokumentacja funkcji wskazanej kursorem\n",
    "- `Tab` dopełnianie składni\n",
    "\n",
    "\n",
    "## Skróty klawiszowe\n",
    "\n",
    "\n",
    "### W trybie komend\n",
    "\n",
    "- `A` wstawia nową komórkę powyżej\n",
    "- `B` wstawia nową komórkę poniżej\n",
    "- `M` zamienia typ komórki na komórkę Markdown\n",
    "- `Y` zamienia typ komórki na komórkę z kodem\n",
    "- `D` `D` usuwa aktualną komórkę\n",
    "- `Shift` + `Down` zaznacz następną komórkę\n",
    "- `Shift` + `Up` zaznacz poprzednią komórkę\n",
    "- `Shift` + `M` scal zaznaczone komórki\n",
    "\n",
    "### W trybie edycji\n",
    "\n",
    "- `Ctrl` + `Shift` + `-` dzieli komórkę w miejscu kursora\n",
    "- `Esc` + `F` znajdź i zamień fragment kodu (nie uwzględnia wyników działania)\n",
    "- `Esc` + `O` włącz/wyłącz podgląd wyniku komórki\n",
    "\n",
    "\n",
    "## Przydatne adresy\n",
    "- Project website: <http://jupyter.org>\n",
    "- Ściąga <https://www.edureka.co/blog/wp-content/uploads/2018/10/Jupyter_Notebook_CheatSheet_Edureka.pdf>\n",
    "- Dokumentacja: <https://jupyter.readthedocs.io/en/latest/index.html>\n",
    "- Jupyter tutorial: <https://www.datacamp.com/community/tutorials/tutorial-jupyter-notebook#gs.FvQnWPo>\n"
   ]
  },
  {
   "cell_type": "markdown",
   "metadata": {},
   "source": [
    "Podstawy Pythona\n",
    "==============="
   ]
  },
  {
   "cell_type": "code",
   "execution_count": null,
   "metadata": {},
   "outputs": [],
   "source": [
    "print('Witaj świecie')"
   ]
  },
  {
   "cell_type": "markdown",
   "metadata": {},
   "source": [
    "## Zmienne i typy"
   ]
  },
  {
   "cell_type": "code",
   "execution_count": null,
   "metadata": {},
   "outputs": [],
   "source": [
    "# integer\n",
    "x = 42\n",
    "print(x, type(a))\n",
    "\n",
    "# typ Boolowski\n",
    "x = True\n",
    "print(x, type(x))\n",
    "\n",
    "\n",
    "# float\n",
    "x = 3.14\n",
    "print(x, type(x))\n",
    "\n",
    "# napis\n",
    "s = 'Hello'\n",
    "print(s, type(s))\n",
    "\n",
    "# łączenie napisów\n",
    "s = s + ' world ' + str(x) \n",
    "print('Połaczony napis: ', s)\n",
    "\n",
    "print('Długość napisu: ', len(s))\n",
    "\n",
    "help(s.count)  # dokumnetacja funkcji count()\n",
    "print(s.count('l'))"
   ]
  },
  {
   "cell_type": "markdown",
   "metadata": {},
   "source": [
    "## Operatory"
   ]
  },
  {
   "cell_type": "code",
   "execution_count": null,
   "metadata": {},
   "outputs": [],
   "source": [
    "# operatory arytmetyczne i realzacji takie jak w C\n",
    "x = 3       # przypisanie\n",
    "x = x + 1   # dodawnanei\n",
    "print(x)\n",
    "\n",
    "x += 3  \n",
    "print(x)\n",
    "\n",
    "x = 1 / 3   # dzielenie \n",
    "print(x)\n",
    "\n",
    "x = 7 // 3  # dzielenie całkowite \n",
    "print(x)\n",
    "\n",
    "x = 7 % 3   # modulo, reszta z dzielenia\n",
    "print(x)\n",
    "\n",
    "x = 2 ** 10   # potęgowanie\n",
    "print(x)"
   ]
  },
  {
   "cell_type": "code",
   "execution_count": null,
   "metadata": {},
   "outputs": [],
   "source": [
    "# wyświetlanie liczb\n",
    "x = 3.14\n",
    "k = 42\n",
    "print('liczba x=' + str(x) + ', k=' + str(k))\n",
    "\n",
    "# formatowanie zgodne z funkcją printf() z języka C\n",
    "print('liczba x=%.2f,  k=%d' % (x, k))"
   ]
  },
  {
   "cell_type": "markdown",
   "metadata": {},
   "source": [
    "## Warunek if, pętla while, pętla for"
   ]
  },
  {
   "cell_type": "code",
   "execution_count": null,
   "metadata": {},
   "outputs": [],
   "source": [
    "x = 42\n",
    "if x > 5 and x < 10 :\n",
    "    print('x w zakresie od 5 do 10')\n",
    "elif x > 10:\n",
    "    print('x jest większy od 10')\n",
    "else:\n",
    "    print('Nie ok')"
   ]
  },
  {
   "cell_type": "code",
   "execution_count": null,
   "metadata": {},
   "outputs": [],
   "source": [
    "x = 10\n",
    "while x > 0:\n",
    "    x = x -1\n",
    "    print(x)"
   ]
  },
  {
   "cell_type": "code",
   "execution_count": null,
   "metadata": {},
   "outputs": [],
   "source": [
    "for i in ('a', 3.13, 3, 'Ala ma kota'):\n",
    "    print(i)"
   ]
  },
  {
   "cell_type": "code",
   "execution_count": null,
   "metadata": {},
   "outputs": [],
   "source": [
    "for i in range(5):\n",
    "    print(i)"
   ]
  },
  {
   "cell_type": "markdown",
   "metadata": {},
   "source": [
    "## Krotki, listy i słowniki"
   ]
  },
  {
   "cell_type": "code",
   "execution_count": null,
   "metadata": {},
   "outputs": [],
   "source": [
    "# krotka (tuple) - kolekcja elementów, której nie można modyfikować\n",
    "b = ( 1, 'a', 'helo')\n",
    "\n",
    "print('b=', b)\n",
    "\n",
    "print('b[0]=', b[0])    # pierwszy element, indeksowane od 0"
   ]
  },
  {
   "cell_type": "code",
   "execution_count": null,
   "metadata": {},
   "outputs": [],
   "source": [
    "# lista \n",
    "a=[1, 2, 3, 5]\n",
    "print('lista a=', a)\n",
    "print('a[0]=', a[0])\n",
    "\n",
    "for i in a:\n",
    "    print(i)\n",
    "    \n",
    "for i, x in enumerate(a):\n",
    "    print(i, x)"
   ]
  },
  {
   "cell_type": "code",
   "execution_count": null,
   "metadata": {},
   "outputs": [],
   "source": [
    "# lista \n",
    "a = [ 5, 3, 2, -4, 12]\n",
    "\n",
    "a.reverse()    # odwracanie\n",
    "print(a)\n",
    "\n",
    "a.sort()       # sortowanie\n",
    "print(a)\n",
    "\n",
    "a.append(3)    # dodawanie elementu na końcu\n",
    "print(a)\n",
    "\n",
    "del a[0]      # usuwanie elementu\n",
    "print(a)\n",
    "\n"
   ]
  },
  {
   "cell_type": "code",
   "execution_count": null,
   "metadata": {},
   "outputs": [],
   "source": [
    "# lista zawierająca listy\n",
    "a= [[ 1, 2 ,3 ], [4, 5, 6, 7 ]]\n",
    "print(len(a))\n",
    "print(a[0])      # pierwszy wiersz\n",
    "print(a[1][2])    "
   ]
  },
  {
   "cell_type": "code",
   "execution_count": null,
   "metadata": {},
   "outputs": [],
   "source": [
    "# indeksowanie list\n",
    "a = [ 5, 3, 1,6 ,3]\n",
    "print(a[0])             # pierwszy element\n",
    "print(a[-1])            # ostatni element\n",
    "print(a[1:3])           # element 1,2\n",
    "print(a[2:])            # element od 2 do końca"
   ]
  },
  {
   "cell_type": "code",
   "execution_count": null,
   "metadata": {},
   "outputs": [],
   "source": [
    "# słownik { 'klucz1' : wartość1, 'klucz2': wartość2, ...}\n",
    "s = { 'ala' : 'ma kota', 'ewa' : 'ma psa'}\n",
    "\n",
    "print(s['ala'])    \n",
    "\n",
    "s['janek']='lubi Pythina'    # nowy element słownika\n",
    "\n",
    "for k in s:\n",
    "    print(k, s[k])\n",
    "    \n",
    "print(s.keys())      # lista kluczy\n",
    "print(s.values())    # lista wartości\n",
    "print(len(s))        # ilośc elementów\n"
   ]
  },
  {
   "cell_type": "markdown",
   "metadata": {},
   "source": [
    "## Funkcje"
   ]
  },
  {
   "cell_type": "code",
   "execution_count": null,
   "metadata": {},
   "outputs": [],
   "source": [
    "# definicja funkcji\n",
    "def suma(a, b, c):\n",
    "    \n",
    "    return a + b + c\n",
    "    "
   ]
  },
  {
   "cell_type": "code",
   "execution_count": null,
   "metadata": {},
   "outputs": [],
   "source": [
    "x = suma(1, 3, 4)\n",
    "print(x)"
   ]
  },
  {
   "cell_type": "code",
   "execution_count": null,
   "metadata": {},
   "outputs": [],
   "source": [
    "# funkcja może zwracać krotkę (więcej niż jedną wartość)\n",
    "def funkcja2(a, b, c):\n",
    "    \n",
    "    return a+1, b-1, c\n",
    "    "
   ]
  },
  {
   "cell_type": "code",
   "execution_count": null,
   "metadata": {},
   "outputs": [],
   "source": [
    "x, y, z = funkcja2(1, 2, 3)\n",
    "\n",
    "print(x, y, z)"
   ]
  },
  {
   "cell_type": "markdown",
   "metadata": {},
   "source": [
    "## Pliki\n",
    "\n",
    "W ćwiczeniach wykorzystano plik [liczby.txt](http://www.is.umk.pl/~grochu/wdm/files/liczby.txt), który zawierakilka liczb odzielonych przecinkiem\n",
    "```\n",
    "1,2,3,4,5,6\n",
    "11,22,33,44,55,66\n",
    "42,32,32,1\n",
    "```\n",
    "Pobierz plik i umieść w katalogu w którym znajduje się notatnik."
   ]
  },
  {
   "cell_type": "code",
   "execution_count": null,
   "metadata": {},
   "outputs": [],
   "source": [
    "# Pobranie pliku (uwaga: działa tylko, gdy w systemie zainstalowany jest wget)\n",
    "!wget http://www.is.umk.pl/~grochu/wdm/files/liczby.txt"
   ]
  },
  {
   "cell_type": "code",
   "execution_count": null,
   "metadata": {},
   "outputs": [],
   "source": [
    "plik = open('liczby.txt', 'r')\n",
    "for linia in plik:\n",
    "    print(linia)\n",
    "plik.close()    "
   ]
  },
  {
   "cell_type": "code",
   "execution_count": null,
   "metadata": {},
   "outputs": [],
   "source": [
    "x = []\n",
    "with open('liczby.txt', 'r') as plik:\n",
    "    for linia in plik:\n",
    "        liczby = linia.split(',')\n",
    "        for l in liczby:\n",
    "            x.append(float(l))\n",
    "\n",
    "print(x)"
   ]
  },
  {
   "cell_type": "markdown",
   "metadata": {},
   "source": [
    "## NumPy - bibloteka do obliczeń numerycznych\n",
    "\n",
    "NumPy tutorial: <https://numpy.org/devdocs/user/quickstart.html>"
   ]
  },
  {
   "cell_type": "code",
   "execution_count": null,
   "metadata": {},
   "outputs": [],
   "source": [
    "import numpy as np"
   ]
  },
  {
   "cell_type": "code",
   "execution_count": null,
   "metadata": {},
   "outputs": [],
   "source": [
    "a = np.array([1,2,3])     # tablica numpy (ndarray), 1-wymiarowa (wektor)\n",
    "print(a)\n",
    "print(type(a))"
   ]
  },
  {
   "cell_type": "code",
   "execution_count": null,
   "metadata": {},
   "outputs": [],
   "source": [
    "a = np.array([[1.1,2,3], [3,5,6]])   # tablica 2-wymiarowa\n"
   ]
  },
  {
   "cell_type": "code",
   "execution_count": null,
   "metadata": {},
   "outputs": [],
   "source": [
    "print(a.ndim)       # liczba wymiarów\n",
    "print(a.shape)      # wymiary (kształt)\n",
    "print(a.dtype)      # typ danych\n",
    "print(a.size)      # liczba elementów\n",
    "\n",
    "b=a[1, 0:3]\n"
   ]
  },
  {
   "cell_type": "markdown",
   "metadata": {},
   "source": [
    "Funkcje do generowania tablic"
   ]
  },
  {
   "cell_type": "code",
   "execution_count": null,
   "metadata": {},
   "outputs": [],
   "source": [
    "print(np.random.rand(4))      # liczby losowe z rozkładu jednostajnego [0,1]\n",
    "print(np.random.randn(5))     # rozkład normalny\n",
    "print(np.arange(-10,10,2))    # wartości od -10 do 10 z krokiem 2\n",
    "print(np.arange(12).reshape(3,4))  # reshape to a matrix\n",
    "print(np.linspace(0,1,10))    # 10 kolejnych wartości z odcinka [0,1]\n",
    "print(np.zeros((3,5)))         # macierz zerowa\n",
    "print(np.eye(5))            # macierz jednostkowa (diagonalna)\n",
    "print(np.ones((5,1)))            # macierz jedynek"
   ]
  },
  {
   "cell_type": "markdown",
   "metadata": {},
   "source": [
    "Zmiana kształtu mcierzy"
   ]
  },
  {
   "cell_type": "code",
   "execution_count": null,
   "metadata": {},
   "outputs": [],
   "source": [
    "x = np.arange(12)\n",
    "print(x.shape)\n",
    "print(x)\n",
    "\n",
    "y = x.reshape([3,4])\n",
    "print(y.shape)\n",
    "print(y)"
   ]
  },
  {
   "cell_type": "markdown",
   "metadata": {},
   "source": [
    "Operacje na macierzach"
   ]
  },
  {
   "cell_type": "code",
   "execution_count": null,
   "metadata": {},
   "outputs": [],
   "source": [
    "x = np.array([1,2,3,4,5])\n",
    "\n",
    "print(x + 1)      # addition \n",
    "print(x - 1)      # subtraction\n",
    "print(x * 2)      # multiplication\n",
    "print(x // 2)     # integer division\n",
    "print(x ** 2)     # square\n",
    "print(x % 2)      # modulo  \n",
    "print(1 / x)      # division"
   ]
  },
  {
   "cell_type": "code",
   "execution_count": null,
   "metadata": {},
   "outputs": [],
   "source": [
    "x = np.array([2,4,6,8,10])\n",
    "y = np.array([1,2,3,4,5])\n",
    "\n",
    "print(x + y)\n",
    "print(x - y)\n",
    "print(x * y)    # mnożenie element po elemencie\n",
    "print(x.dot(y)) # iloczyn skalarny (mnożenie macierzy)\n",
    "print(x / y)\n",
    "print(x // y)\n",
    "print(x ** y)"
   ]
  },
  {
   "cell_type": "markdown",
   "metadata": {},
   "source": [
    "Indeksowanie elementów macierzy"
   ]
  },
  {
   "cell_type": "code",
   "execution_count": null,
   "metadata": {},
   "outputs": [],
   "source": [
    "x = np.array([11 ,22 ,33, 44, 55, 66])\n",
    "print(x)\n",
    "\n",
    "y = x[3:5]     # y jest przekrojem (slice) macierzy x elementów od 3 do 4, macierz y wskazuje wybrane dane z x\n",
    "print(y)\n",
    "\n",
    "y[:] = 1000    # zmiana elementów y zmieni też x (obie macierze to widok na te same dane w pamięci)\n",
    "print(y)\n",
    "print(x)\n",
    "\n",
    "z = x[3:5].copy()   # utworzenie kopii macierzy, elementy z leżą w innej przestrzeni pamięci niż x i y\n",
    "print(z)\n",
    "z[:] = 500          # zmiana z nie zmieni x\n",
    "print(z)\n",
    "print(x)"
   ]
  },
  {
   "cell_type": "code",
   "execution_count": null,
   "metadata": {},
   "outputs": [],
   "source": [
    "x = np.arange(12).reshape((3,4))\n",
    "print(x)\n",
    "print(x[2,:])       # trzeci wiersz\n",
    "print(x[:, 2])       # trzecia kolumna \n",
    "print(x[:2, 2:])     # dwa pierwsze wiersze i dwie ostatnie kolumny"
   ]
  },
  {
   "cell_type": "markdown",
   "metadata": {},
   "source": [
    "Indeksowanie warunkowe "
   ]
  },
  {
   "cell_type": "code",
   "execution_count": null,
   "metadata": {},
   "outputs": [],
   "source": [
    "x = np.arange(12).reshape(3,4)\n",
    "print(x)\n",
    "\n",
    "x[x > 5 ] = 0   # wyzerowanie el. większych od 5\n",
    "print(x)"
   ]
  },
  {
   "cell_type": "markdown",
   "metadata": {},
   "source": [
    "Kilka przydatnych funkcji"
   ]
  },
  {
   "cell_type": "code",
   "execution_count": null,
   "metadata": {},
   "outputs": [],
   "source": [
    "y = np.random.rand(10) - 0.5\n",
    "print(y)\n",
    "\n",
    "print(np.abs(y))          # wartośc bezwzględna\n",
    "print(np.exp(y))          # exponent\n",
    "print(np.sort(y))         # sortowanie\n",
    "print(\"Min =\", np.min(y))             # min \n",
    "print(\"Max =\", np.max(y))             # max \n",
    "print(\"Average =\", np.mean(y))        # mean/average\n",
    "print(\"Std deviation =\", np.std(y))   # standard deviation\n",
    "print(\"Sum =\", np.sum(y))             # sum \n",
    "\n",
    "x = np.reshape(y, [5,2])\n",
    "print(x)\n",
    "print('Min axis=0: ', np.min(x, axis=0))     # min. wzgl. wymiaru 0"
   ]
  },
  {
   "cell_type": "markdown",
   "metadata": {},
   "source": [
    "## MatPlotLib - wykresy\n",
    "\n",
    "Tutorial: <https://matplotlib.org/tutorials/index.html>"
   ]
  },
  {
   "cell_type": "code",
   "execution_count": null,
   "metadata": {},
   "outputs": [],
   "source": [
    "import matplotlib.pyplot as plt\n",
    "import numpy as np"
   ]
  },
  {
   "cell_type": "markdown",
   "metadata": {},
   "source": [
    "Przebieg funkcji sigmoidalnej $f(x) = \\frac{1}{1+e^{-\\alpha x}}$ na odcinku [-5, 5]\n",
    "\n"
   ]
  },
  {
   "cell_type": "code",
   "execution_count": null,
   "metadata": {},
   "outputs": [],
   "source": [
    "x = np.linspace(-5, 5, 100)\n",
    "y = 1.0 / (1.0 + np.exp(-x))\n",
    "\n",
    "plt.plot(x, y)"
   ]
  },
  {
   "cell_type": "markdown",
   "metadata": {},
   "source": [
    "Funkcji sigmoidalna ze współczynnikiem nachylenia $\\alpha=0.5, 1, 2, 100$"
   ]
  },
  {
   "cell_type": "code",
   "execution_count": null,
   "metadata": {},
   "outputs": [],
   "source": [
    "for a in [0.5, 1.0, 2.0, 100]:\n",
    "    y = 1.0 / (1.0 + np.exp(-x * a))\n",
    "    plt.plot(x, y, label='a=' + str(a))\n",
    "\n",
    "plt.title('Funkcja sigmoidalna')\n",
    "plt.xlabel('x')\n",
    "plt.ylabel('f(x)')\n",
    "plt.legend()\n"
   ]
  },
  {
   "cell_type": "markdown",
   "metadata": {},
   "source": [
    "## Zadania\n",
    "### 1. Rozkład normalny\n",
    "\n",
    "Wygeneruj tablicę o rozmiarze 10000 zawierającą losowe wartości z rozkładu normalnego wartości oczekiwanej $\\mu=1$ i odchyleniu standardowym $\\sigma=3$ i wyrysuj histogram dla tych danych.  \n",
    "Przydatne funkcje: [numpy.random.randn](https://docs.scipy.org/doc/numpy-1.15.1/reference/generated/numpy.random.randn.html), [matplotlib.pyplot.hist](https://matplotlib.org/3.2.1/api/_as_gen/matplotlib.pyplot.hist.html)\n",
    "### 2. Odmiany win\n",
    "\n",
    "1. Wczytaj do tablicy ''numpy'' dane liczbowe umieszczone w pliku  ''wine.data'' (http://www.fizyka.umk.pl/~grochu/wdm/files/wine.data)  \n",
    "Plik zawiera pomiary własności chemicznych 3 odmian Włoskich win.  \n",
    "Format danych:  \n",
    "```\n",
    "  1,14.23,1.71,2.43,15.6,127,2.8,3.06,.28,2.29,5.64,1.04,3.92,1065\n",
    "  2,13.2,1.78,2.14,11.2,100,2.65,2.76,.26,1.28,4.38,1.05,3.4,1050\n",
    "  3,13.16,2.36,2.67,18.6,101,2.8,3.24,.3,2.81,5.68,1.03,3.17,1185\n",
    "   ...\n",
    "```\n",
    "Każda linia zawiera 14 wartości oddzielonych przecinkami określających wartości pomiaru dla pojedynczego wina.  \n",
    "Pierwsza zmienna to odmiana wina (wartość 1, 2 lub 3) pozostałe to zmienne ciągłe (wyniki pomiarów):\n",
    "```\n",
    "  1 Odmiana (1,2,3),  \n",
    "  2 Alcohol,  \n",
    "  3 Malic acid,  \n",
    "  4 Ash,  \n",
    "  5 Alcalinity of ash,  \n",
    "  6 Magnesium,  \n",
    "  7 Total phenols, \n",
    "  8 Flavanoids,  \n",
    "  9 Nonflavanoid phenols,  \n",
    "  10 Proanthocyanins,  \n",
    "  11 Color intensity,  \n",
    "  12 Hue,  \n",
    "  13 OD280/OD315 of diluted wines, \n",
    "  14 Proline \n",
    "```\n",
    "\n",
    "2. Wyznacz wartość minimalną, maksymalną, średnią, medianę i odchylenie standardowe dla każdej z 14 zmiennych.  \n",
    "\n",
    "3. Wyznacz wartości średnie wszystkich zmiennych ciągłych dla win odmiany 1.  \n",
    "\n",
    "4. Wyrysuj histogram wybranej zmiennej o charakterze ciągłym dla całego zbioru danych\n",
    "\n",
    "4. Wyrysuj histogramy wybranej zmiennej ciągłej osobno dla każdej z 3 odmian win lub w postaci pojedynczego histogramu, gdzie każda odmiana oznaczona jest innym kolorem.\n",
    "\n",
    "5. Wyznacz liczebność win każdej z 3 odmian. Wynik przedstaw graficznie za pomocą odpowiedniego wykresu (np. słupkowego lub kołowego).\n",
    "\n",
    "6. Sporządź wykres rozrzutu (zob. [scatter plot](https://matplotlib.org/3.2.1/api/_as_gen/matplotlib.pyplot.scatter.html)) dwóch wybranych zmiennych ciągłych.  \n",
    "Spróbuj wskazać taką parę zmiennych ciągłych, które posiadają na wykresie widoczną zależność (są skorelowane). \n",
    "\n",
    "7. Sporządź wykres rozrzutu dwóch wybranych zmiennych ciągłych, na którym przypadki z każdej odmiany wina są oznaczone innym kolorem.  \n",
    "Spróbuj wskazać taką parę zmiennych ciągłych, które prezentują na wykresie rozrzutu najlepszą separację pomiędzy grupami (odmianami win). \n"
   ]
  }
 ],
 "metadata": {
  "kernelspec": {
   "display_name": "Python 3",
   "language": "python",
   "name": "python3"
  },
  "language_info": {
   "codemirror_mode": {
    "name": "ipython",
    "version": 3
   },
   "file_extension": ".py",
   "mimetype": "text/x-python",
   "name": "python",
   "nbconvert_exporter": "python",
   "pygments_lexer": "ipython3",
   "version": "3.7.4"
  }
 },
 "nbformat": 4,
 "nbformat_minor": 2
}
