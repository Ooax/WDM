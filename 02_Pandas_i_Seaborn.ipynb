{
 "cells": [
  {
   "cell_type": "markdown",
   "metadata": {},
   "source": [
    "# Wprowadzenie do Pandas i Seaborn\n",
    "\n",
    "## Pandas\n",
    "\n",
    "Pakiet Pandas udostępnia dwa obiekty służące do wygodnego przechowywania danych i ułatwiających manipulowanie danymi:\n",
    "* **Series** to obiekt reprezentujący jednowymiarową tablicę danych\n",
    "* **DataFrame** to dwu-wymiarowa tabela danych.\n",
    "\n",
    "Pandas WWW: <https://pandas.pydata.org/>  \n",
    "Pandas Tutorial: <https://pandas.pydata.org/docs/getting_started/10min.html>"
   ]
  },
  {
   "cell_type": "markdown",
   "metadata": {},
   "source": [
    "## Series\n",
    "\n",
    "Seria jest obiektem reprezentującym jednowymiarową tablicę danych, której elementy są indeksowane. Seria może być utworzona z dowolnej kolekcji liczb: krotki, listy, tablicy numpy a nawet ze słownika. Obiekt Series udostępna wiele metod pozwalających operować na danych w serii, zawiera też  metody do wizualizowania danych. Dodatkowo, wiele funkcji z pakietu numpy może byc użytych na tym obiekcie, jeżli tylko seria zawiera liczby."
   ]
  },
  {
   "cell_type": "code",
   "execution_count": null,
   "metadata": {},
   "outputs": [],
   "source": [
    "import pandas as pd\n",
    "\n",
    "s = pd.Series([3.1, 2.4, -1.7, 0.2, -2.9, 4.5])   # seria utworzona z listy liczb\n",
    "\n",
    "print(s)\n",
    "print('Values=', s.values)     # wartości serii\n",
    "print('Index=', s.index)       # indeksy  serii \n",
    "print('Pierwszy element:', s[0])  \n"
   ]
  },
  {
   "cell_type": "code",
   "execution_count": null,
   "metadata": {},
   "outputs": [],
   "source": [
    "import numpy as np\n",
    "\n",
    "s2 = pd.Series(np.random.randn(6))  # seria utworzona z tablicy numpy\n",
    "\n",
    "print(s2)\n",
    "print('Values=', s2.values)   # wartości serii\n",
    "print('Index=', s2.index)     # indeksy serii\n",
    "print('Pierwszy element:', s2[0])"
   ]
  },
  {
   "cell_type": "markdown",
   "metadata": {},
   "source": [
    "W odróżnieniu do tablic indeksami nie muszą być liczby całkowite. "
   ]
  },
  {
   "cell_type": "code",
   "execution_count": null,
   "metadata": {},
   "outputs": [],
   "source": [
    "# indeksami moga być łańcychy znakowe\n",
    "s3 = pd.Series(np.random.randn(5), index=['a', 'b', 'c', 'd', 'e'])\n",
    "\n",
    "print('Values=', s3.values)   # wartości\n",
    "print('Index=', s3.index)     # indeksy\n",
    "\n",
    "print(s3)\n",
    "\n",
    "print(s3['a'])     # indeksowanie za pomocą napisów\n",
    "print(s3[0])       # indeksowanie liczbami całkowitymi nadal działa"
   ]
  },
  {
   "cell_type": "code",
   "execution_count": null,
   "metadata": {},
   "outputs": [],
   "source": [
    "capitals = {'MI': 'Lansing', 'CA': 'Sacramento', 'TX': 'Austin', 'MN': 'St Paul'}\n",
    "\n",
    "s4 = pd.Series(capitals)   # seria ze słownika\n",
    "\n",
    "print(s4)\n",
    "print('Values=', s4.values)   # wartości\n",
    "print('Index=', s4.index)     # indeksy\n",
    "print('Element o indeksie CA:', s4['CA'])"
   ]
  },
  {
   "cell_type": "markdown",
   "metadata": {},
   "source": [
    "Obiekt Series w wielu sytuacjach zachowuje się podobnie do tablic NumPy. W podobny sposób indeksuje się elementy serii, z tą róznicą, że przekroje równiwież dotyczą indeksów."
   ]
  },
  {
   "cell_type": "code",
   "execution_count": null,
   "metadata": {},
   "outputs": [],
   "source": [
    "s3 = pd.Series([1.2, 2.5, -2.2, 3.1, -0.8, -3.2], \n",
    "            index = ['a','b','c','d','e','f'])\n",
    "print(s3)\n",
    "\n",
    "print('s3[2]=', s3[2])        # trzeci element serii\n",
    "\n",
    "print('s3[1:3]=')             # przekrój serii (elementy od 1 do 3)\n",
    "print(s3[1:3])\n",
    "\n"
   ]
  },
  {
   "cell_type": "code",
   "execution_count": null,
   "metadata": {},
   "outputs": [],
   "source": [
    "print('size =', s3.size)    # ilość elementów serii"
   ]
  },
  {
   "cell_type": "code",
   "execution_count": null,
   "metadata": {},
   "outputs": [],
   "source": [
    "print(s3[s3 > 0])   # filtrowanie za pomocą reguł logicznych"
   ]
  },
  {
   "cell_type": "code",
   "execution_count": null,
   "metadata": {},
   "outputs": [],
   "source": [
    "print(s3 + 4)       # operacje arytmetyczne, dodawanie wartości skalarnej\n",
    "print(s3 / 4)    \n",
    "\n",
    "print(s3 + s3)      # suma wektorów\n",
    "print(s3 + [1 ,2, 3, 4, 5, 6 ])"
   ]
  },
  {
   "cell_type": "markdown",
   "metadata": {},
   "source": [
    "Jeżeli seria zawiera liczby to mozna wykonać na niej funkcje NumPy."
   ]
  },
  {
   "cell_type": "code",
   "execution_count": null,
   "metadata": {},
   "outputs": [],
   "source": [
    "print(np.exp(s3))\n",
    "print(np.log(s3 + 4))    # funkcje NumPy stosowane na serii"
   ]
  },
  {
   "cell_type": "markdown",
   "metadata": {},
   "source": [
    "Obiekt serii posiada wiele metod operujących na jednowymiarowej serii danych, np. funkcje statystyczne (np. min, median) ale także metody wizualizujące dane (np. hist, plot).   \n",
    "\n",
    "Lista metod klasy Series: <https://pandas.pydata.org/pandas-docs/stable/reference/api/pandas.Series.html>"
   ]
  },
  {
   "cell_type": "code",
   "execution_count": null,
   "metadata": {},
   "outputs": [],
   "source": [
    "s4 = pd.Series(np.random.randn(100))\n",
    "\n",
    "print(s4.head())    \n",
    "print('Sredna', s4.mean())\n",
    "print('Mediana', s4.median())"
   ]
  },
  {
   "cell_type": "code",
   "execution_count": null,
   "metadata": {},
   "outputs": [],
   "source": [
    "s4.hist()          # histogram"
   ]
  },
  {
   "cell_type": "code",
   "execution_count": null,
   "metadata": {},
   "outputs": [],
   "source": [
    "print(s4.describe())    # zestaw statystyk opisowaych"
   ]
  },
  {
   "cell_type": "code",
   "execution_count": null,
   "metadata": {},
   "outputs": [],
   "source": [
    "s5 = pd.Series([42, 2, 3, 5], index=['d', 'c', 'b' , 'a'])\n",
    "s5.plot()     # wykres liniowy"
   ]
  },
  {
   "cell_type": "code",
   "execution_count": null,
   "metadata": {},
   "outputs": [],
   "source": [
    "s5.plot(kind='bar', title='Wykres słópkowy')    # wykres słópkowy"
   ]
  },
  {
   "cell_type": "code",
   "execution_count": null,
   "metadata": {},
   "outputs": [],
   "source": [
    "print(s5.sort_values())     # sortowanie wartości\n",
    "print(s5.sort_index())      # sortowanie indeksów"
   ]
  },
  {
   "cell_type": "markdown",
   "metadata": {},
   "source": [
    "## DataFrame\n",
    "\n",
    "Obiek DataFrame reprezentuje 2-wymiarową tabelę danych, która posiada indeksowane kolumny oraz wiersze. Każda kolumna to obiekt Series, może zawierać elementy innego typu (liczby, wartości kategoryczne, napisy, serie czasowe, itd.) i reprezentuje pojedyńczą zmienną. "
   ]
  },
  {
   "cell_type": "code",
   "execution_count": null,
   "metadata": {},
   "outputs": [],
   "source": [
    "# tabela utworzona z tablicy numpy\n",
    "x = pd.DataFrame(np.random.rand(3,3))   \n",
    "x"
   ]
  },
  {
   "cell_type": "markdown",
   "metadata": {},
   "source": [
    "Kolumny mogą być indeksowane za pomocą napisów, można traktować te napisy jak nazwy zmiennych. "
   ]
  },
  {
   "cell_type": "code",
   "execution_count": null,
   "metadata": {},
   "outputs": [],
   "source": [
    "# tworzeie tabeli DataFrame z tablicy numpy\n",
    "import numpy as np\n",
    "\n",
    "x = np.random.randn(5,3)  # create a 5 by 3 random matrix\n",
    "data = pd.DataFrame(x, columns=['x1','x2','x3'])\n",
    "data"
   ]
  },
  {
   "cell_type": "code",
   "execution_count": null,
   "metadata": {},
   "outputs": [],
   "source": [
    "# tworzenie tabeli DataFrame ze słownika, klucze słownika stają się nazwami kolumn\n",
    "cars = {'make': ['Ford', 'Honda', 'Toyota', 'Tesla'],\n",
    "       'model': ['Taurus', 'Accord', 'Camry', 'Model S'],\n",
    "       'MSRP': [27595, 23570, 23495, 68000]}          \n",
    "\n",
    "carData = pd.DataFrame(cars)   # tabela ze słownika, klucze to nazwy kolumn (zmiennych)\n",
    "carData                        # wyświetlanie tabeli w notatniku"
   ]
  },
  {
   "cell_type": "code",
   "execution_count": null,
   "metadata": {},
   "outputs": [],
   "source": [
    "# tabela utworzona ze słownika zawierającego serie\n",
    "d = {'x': pd.Series([1., 2., 3.], index=['a', 'b', 'c']),\n",
    "     'y': pd.Series([1., 2., 3., 4.], index=['a', 'b', 'c', 'd']),\n",
    "     'z': pd.Series([42], index=['d'])}\n",
    "df = pd.DataFrame(d)\n",
    "df"
   ]
  },
  {
   "cell_type": "code",
   "execution_count": null,
   "metadata": {},
   "outputs": [],
   "source": [
    "print(df.index)       # indeksy wierszy\n",
    "print(df.columns)     # indeksy (nazwy) kolumn"
   ]
  },
  {
   "cell_type": "markdown",
   "metadata": {},
   "source": [
    "### Operacje na kolumnach\n",
    "\n",
    "Dodawanie nowych kolumn w tabeli przypomina dodawnanie nowych elementów do słownika."
   ]
  },
  {
   "cell_type": "code",
   "execution_count": null,
   "metadata": {},
   "outputs": [],
   "source": [
    "df = pd.DataFrame({'a' : [1, 2, 3, 4], 'b' : [5, 6, 7, 8]})  \n",
    "\n",
    "df['rok'] = 2020                 # dodanie kolumny ze stała wartością\n",
    "df['col1'] = ['Raz','Dwa','Trzy', 'Cztery']   # dodawanie zmiennej z listą wartości\n",
    "df['x1'] = np.random.rand(4)\n",
    "df                  "
   ]
  },
  {
   "cell_type": "markdown",
   "metadata": {},
   "source": [
    "Kolumna tabeli jest obiektem Series"
   ]
  },
  {
   "cell_type": "code",
   "execution_count": null,
   "metadata": {},
   "outputs": [],
   "source": [
    "print(df['a'])\n",
    "print(type(df['a']))\n"
   ]
  },
  {
   "cell_type": "markdown",
   "metadata": {},
   "source": [
    "Kolumna dostępna jest też w poprzez atrybut obiektu DataFrame o tej samej nazwie"
   ]
  },
  {
   "cell_type": "code",
   "execution_count": null,
   "metadata": {},
   "outputs": [],
   "source": [
    "print(df['a'])\n",
    "print(df.a)\n",
    "print(type(df.a))"
   ]
  },
  {
   "cell_type": "code",
   "execution_count": null,
   "metadata": {},
   "outputs": [],
   "source": [
    "# usuwanie kolumn\n",
    "del df['a']\n",
    "df"
   ]
  },
  {
   "cell_type": "markdown",
   "metadata": {},
   "source": [
    "## Indeksowanie tablic DataFrame\n",
    "\n",
    "Elementy DataFrame moga być indeksowane podobnie jak tablice numpy. Atrybut `iloc` umożliwia indeksowanie za pomocą liczb całkowitych (określa pozycję elementu)  "
   ]
  },
  {
   "cell_type": "code",
   "execution_count": null,
   "metadata": {},
   "outputs": [],
   "source": [
    "df.iloc[2]    # wiersz 3 tabeli, wynikiem jest seria, której elementy moga być różnego typu"
   ]
  },
  {
   "cell_type": "code",
   "execution_count": null,
   "metadata": {},
   "outputs": [],
   "source": [
    "df.iloc[:, 2]   # trzecia kolumna tabeli"
   ]
  },
  {
   "cell_type": "code",
   "execution_count": null,
   "metadata": {},
   "outputs": [],
   "source": [
    "df.iloc[:2, 1:3]     # przekrój danych (wiersz od początku do 2 i kolumna od 1 do 3)"
   ]
  },
  {
   "cell_type": "markdown",
   "metadata": {},
   "source": [
    "###  Operacje arytmetyczne\n",
    "\n",
    "Jeżeli tablica zawiera dane liczbowe to można na nich wykonywac operacje arytmetyczne a nawet metody numpy."
   ]
  },
  {
   "cell_type": "code",
   "execution_count": null,
   "metadata": {},
   "outputs": [],
   "source": [
    "data = pd.DataFrame(np.random.rand(5, 3), columns=['x1', 'x2', 'x3'])\n",
    "print(data)\n",
    "\n",
    "print('Transpozycja:')\n",
    "print(data.T)    # transpozycja \n",
    "\n",
    "print('Dodawanie:')\n",
    "print(data + 4)    # dodawanie liczby do wszystkich elementów\n",
    "\n",
    "print('Mnożenie:')\n",
    "print(data * 10)   # mnożenie\n",
    "\n",
    "print('np.exp():')\n",
    "print(np.exp(data))   # exp() dla wszystkich elementów\n",
    "\n"
   ]
  },
  {
   "cell_type": "code",
   "execution_count": null,
   "metadata": {},
   "outputs": [],
   "source": [
    "# operacje arytmetyczne na kolumnach\n",
    "data['x4'] = data['x1'] * data['x2']    \n",
    "data['x5'] = data['x1'] > 0.5 \n",
    "data\n"
   ]
  },
  {
   "cell_type": "markdown",
   "metadata": {},
   "source": [
    "Tablica DataFrame posiada wiele przydatnych metod ułatwiających operowanie danymi, wyznaczanie statystyk i sporządzenie wykresów.\n",
    "\n",
    "Zobacz: <https://pandas.pydata.org/pandas-docs/stable/reference/api/pandas.DataFrame.html>"
   ]
  },
  {
   "cell_type": "markdown",
   "metadata": {},
   "source": [
    "## Import danych z plików CSV"
   ]
  },
  {
   "cell_type": "code",
   "execution_count": null,
   "metadata": {},
   "outputs": [],
   "source": [
    "tips = pd.read_csv('https://raw.githubusercontent.com/mwaskom/seaborn-data/master/tips.csv')"
   ]
  },
  {
   "cell_type": "markdown",
   "metadata": {},
   "source": [
    "Informacje o nazwie i typie zmiennych (kolumn)"
   ]
  },
  {
   "cell_type": "code",
   "execution_count": null,
   "metadata": {},
   "outputs": [],
   "source": [
    "tips.info()     # informacje o zmiennych"
   ]
  },
  {
   "cell_type": "code",
   "execution_count": null,
   "metadata": {},
   "outputs": [],
   "source": [
    "tips.head()     # podgląd początku tabeli"
   ]
  },
  {
   "cell_type": "markdown",
   "metadata": {},
   "source": [
    "Podstawowe statystyki dotyczące zmiennych (kolumn)"
   ]
  },
  {
   "cell_type": "code",
   "execution_count": null,
   "metadata": {},
   "outputs": [],
   "source": [
    "tips.describe()   # wynik tylko dla zmiennych liczbowych "
   ]
  },
  {
   "cell_type": "code",
   "execution_count": null,
   "metadata": {},
   "outputs": [],
   "source": [
    "import numpy as np\n",
    "tips.describe(include=[np.object])    # informacje o zmiennych nominalnych "
   ]
  },
  {
   "cell_type": "code",
   "execution_count": null,
   "metadata": {},
   "outputs": [],
   "source": [
    "print(data.abs())    # wartość bezwzględna\n",
    "\n",
    "print('Max:')\n",
    "print(data.max())    # maksimum wzgl. kolumn \n",
    "\n",
    "print('Średnia dla wierszy:')\n",
    "print(data.mean(axis=1))    # średnia względem wierszy \n",
    "\n",
    "data.plot()               # wykres liniowy"
   ]
  },
  {
   "cell_type": "code",
   "execution_count": null,
   "metadata": {},
   "outputs": [],
   "source": [
    "# wykres skrzynowy dla wybranych kolumn\n",
    "tips[['total_bill','tip']].plot(kind='box', title='Box plot')"
   ]
  },
  {
   "cell_type": "code",
   "execution_count": null,
   "metadata": {},
   "outputs": [],
   "source": [
    "# wykres rozrzutu dla zmiennych 'total_bill' i 'tip'\n",
    "tips.plot(kind='scatter', x='total_bill', y='tip', title='Wykres rozrzutu')"
   ]
  },
  {
   "cell_type": "markdown",
   "metadata": {},
   "source": [
    "## Grupowanie danych\n",
    "\n",
    "Operacja grupowania pozwala w wygodny sposób wykonać operacje na grupach danych (np. wyznaczyć wartośc śrdnią w grupach)."
   ]
  },
  {
   "cell_type": "code",
   "execution_count": null,
   "metadata": {},
   "outputs": [],
   "source": [
    "tips_mean = tips.groupby(['sex']).mean()    # średnie wartości napiwków (tips) w grupach zdefiniowanych przez płeć \n",
    "\n",
    "tips_mean[['tip']].plot(kind='bar')\n",
    "\n",
    "tips_mean"
   ]
  },
  {
   "cell_type": "code",
   "execution_count": null,
   "metadata": {},
   "outputs": [],
   "source": [
    "tips.groupby(['smoker', 'sex']).count()    # grupowanie po dwóch zmiennych "
   ]
  },
  {
   "cell_type": "markdown",
   "metadata": {},
   "source": [
    "## Pakiet Seaborn\n",
    "\n",
    "Seaborn to biblioteka do wizualizacji danych bazująca na matplotlib, która udostępnia zestaw narzędzi do tworzenia typowych wykresów uzywanych w statystyce i analizie danych. Źródlem danych dla wykresów Seaborn mogą być serie i tabele Pandas.\n",
    "\n",
    "WWW: <https://seaborn.pydata.org/>  \n",
    "Tutorial: <https://seaborn.pydata.org/tutorial.html>  \n",
    "Rodzaje dostepnych wykresów, API <https://seaborn.pydata.org/api.html>\n",
    "\n"
   ]
  },
  {
   "cell_type": "code",
   "execution_count": null,
   "metadata": {},
   "outputs": [],
   "source": [
    "import numpy as np\n",
    "import pandas as pd\n",
    "import matplotlib.pyplot as plt\n",
    "\n",
    "import seaborn as sns\n",
    "sns.set(style=\"darkgrid\")     # ustawienie stylu"
   ]
  },
  {
   "cell_type": "code",
   "execution_count": null,
   "metadata": {},
   "outputs": [],
   "source": [
    "tips = pd.read_csv('https://raw.githubusercontent.com/mwaskom/seaborn-data/master/tips.csv')"
   ]
  },
  {
   "cell_type": "markdown",
   "metadata": {},
   "source": [
    "### Wykres rozkładu danych"
   ]
  },
  {
   "cell_type": "code",
   "execution_count": null,
   "metadata": {},
   "outputs": [],
   "source": [
    "# histogram z dopasowanymym wykresem rozkładu gęstości\n",
    "ax = sns.distplot(tips.total_bill)"
   ]
  },
  {
   "cell_type": "code",
   "execution_count": null,
   "metadata": {},
   "outputs": [],
   "source": [
    "# wykres skrzynkowy w grupach utworzonych przez zmienną 'sex'\n",
    "sns.boxplot(y='tip', x='sex', data=tips)"
   ]
  },
  {
   "cell_type": "markdown",
   "metadata": {},
   "source": [
    "### Wykresy relacji dwóch zmiennych"
   ]
  },
  {
   "cell_type": "code",
   "execution_count": null,
   "metadata": {},
   "outputs": [],
   "source": [
    "sns.scatterplot(x=\"total_bill\", y=\"tip\", data=tips);  # wykres rozrzutu\n",
    "sns.scatterplot(x=\"total_bill\", y=\"tip\", data=tips, hue='sex');  # grupy w różnych kolorach\n",
    "sns.relplot(x=\"total_bill\", y=\"tip\", data=tips, col='sex', kind='scatter');  # grupy na osobnych wykresach\n"
   ]
  },
  {
   "cell_type": "markdown",
   "metadata": {},
   "source": [
    "### Wykresy zmiennych dyskretnych: "
   ]
  },
  {
   "cell_type": "code",
   "execution_count": null,
   "metadata": {},
   "outputs": [],
   "source": [
    "# wykres słópkowy liczby próbek w grupach \n",
    "sns.countplot(\"sex\", data=tips)\n",
    "\n",
    "# to samo w podziale na grupy 'time'\n",
    "sns.catplot(\"sex\", col=\"time\", data=tips, kind=\"count\")\n"
   ]
  },
  {
   "cell_type": "markdown",
   "metadata": {},
   "source": [
    "## Zadanie\n",
    "\n",
    "Korzystając z pakietu Pandas oraz Seaborn wykonaj eksplorację danych dotyczących chorób serca zawartych w pliku:\n",
    "<https://www.fizyka.umk.pl/~grochu/wdm/files/heart-cleveland.csv>\n",
    "\n",
    "Dane zawierają 303 przypadku opisane 12 zmiennymi. Ostatnia zmienna zawiera informacje o występowaniu schorzenia serca.\n",
    "```\n",
    "1. age  - wiek\n",
    "2. sex - płeć (male, female) \n",
    "3. cp -  rodzaj bólu klatki piersiowej (chest pain type: typical angina, atypical angina, non-anginal pain, asymptomatic)\n",
    "4. trestbps -  ciśnienie krwi (resting blood pressure (in mm Hg on admission to the hospital)) \n",
    "5. chol -   cholesterol  (serum cholestoral in mg/dl )\n",
    "6. fbs -   poziom cukru  we krwi (fasting blood sugar > 120 mg/dl (true or false) )\n",
    "7. restecg - wynik badań kardiograficznych (normal, left_vent_hyper, st_t_wave_abnormality)\n",
    "8. thalac -`maksymalne tętno\n",
    "9. exang - angina wywołana wysiłkiem fizycznym (yes, no)\n",
    "10. oldpeak -  głebokość odcinka ST na wykresie EKG (ST depression induced by exercise relative to rest)\n",
    "11. slope -  nachylenie odcinka ST na wykresie EKG (the slope of the peak exercise ST segment (upsloping, flat, downsloping))\n",
    "12. class  - przewidywana wartość, występowanie schorzenia (absence, presence)\n",
    "```\n",
    "\n",
    "1. Zaimportuj dane do tablicy DataFrame\n",
    "2. Wyświetl informacje o nazwie i typie zmiennych\n",
    "3. Za pomocą funkcji [describe()](https://pandas.pydata.org/pandas-docs/stable/reference/api/pandas.DataFrame.describe.html) wyświetl statystyki opisowe dotyczące zmiennych ciągłych (min, max, mean, ...) oraz osobno informacje o częstości występowania zmiennych dyskretnych (count, unique, freq)\n",
    "4. Jaki jest śreni poziom cholesterolu (`chol`) dla każdej płci (`sex`) ? Wynik przestaw w postaci liczbowej oraz za pomocą stosowanego wykresu (np. słupkowego [barplot()](https://seaborn.pydata.org/generated/seaborn.barplot.html#seaborn.barplot))\n",
    "5. Narysuj wykres rozrzutu dla wszystkich par zmiennych z danymi numerycznymi korzystając z metody [pairplot()](https://seaborn.pydata.org/generated/seaborn.pairplot.html#seaborn.pairplot). Na podstawie wykresu wybierz parę zmiennych, które można podejrzewać o liniową zależność i wyrysyj dla tej pary zmiennych wykres rozrzutu z naniesioną linią regresyjną za pomocą funkcji [regplot()](https://seaborn.pydata.org/generated/seaborn.regplot.html#seaborn.regplot) lub [lmplot()](https://seaborn.pydata.org/generated/seaborn.lmplot.html#seaborn.lmplot)\n"
   ]
  }
 ],
 "metadata": {
  "kernelspec": {
   "display_name": "Python 3",
   "language": "python",
   "name": "python3"
  },
  "language_info": {
   "codemirror_mode": {
    "name": "ipython",
    "version": 3
   },
   "file_extension": ".py",
   "mimetype": "text/x-python",
   "name": "python",
   "nbconvert_exporter": "python",
   "pygments_lexer": "ipython3",
   "version": "3.7.4"
  }
 },
 "nbformat": 4,
 "nbformat_minor": 2
}
