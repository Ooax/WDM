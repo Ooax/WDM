{
 "cells": [
  {
   "cell_type": "code",
   "execution_count": 2,
   "metadata": {},
   "outputs": [],
   "source": [
    "import numpy as np\n",
    "import matplotlib as mpl\n",
    "import matplotlib.pyplot as plt"
   ]
  },
  {
   "cell_type": "markdown",
   "metadata": {},
   "source": [
    "# Zadanie 1"
   ]
  },
  {
   "cell_type": "code",
   "execution_count": 4,
   "metadata": {},
   "outputs": [
    {
     "data": {
      "text/plain": [
       "(array([  18.,  127.,  692., 1794., 2843., 2542., 1432.,  465.,   78.,\n",
       "           9.]),\n",
       " array([-9.88201256, -7.63597765, -5.38994273, -3.14390781, -0.8978729 ,\n",
       "         1.34816202,  3.59419694,  5.84023186,  8.08626677, 10.33230169,\n",
       "        12.57833661]),\n",
       " <a list of 10 Patch objects>)"
      ]
     },
     "execution_count": 4,
     "metadata": {},
     "output_type": "execute_result"
    },
    {
     "data": {
      "image/png": "[encoded data removed]",
      "text/plain": [
       "<Figure size 432x288 with 1 Axes>"
      ]
     },
     "metadata": {
      "needs_background": "light"
     },
     "output_type": "display_data"
    }
   ],
   "source": [
    "zad1 = 3 * np.random.randn(10000) + 1\n",
    "\n",
    "plt.hist(zad1)"
   ]
  },
  {
   "cell_type": "markdown",
   "metadata": {},
   "source": [
    "# Zadanie 2\n",
    "### 1) Wczytanie"
   ]
  },
  {
   "cell_type": "code",
   "execution_count": 38,
   "metadata": {},
   "outputs": [],
   "source": [
    "import pandas as pd\n",
    "\n",
    "zad2 = pd.read_csv('wine.data',header=None)"
   ]
  },
  {
   "cell_type": "markdown",
   "metadata": {},
   "source": [
    "### 2)\n",
    "\n",
    "### Wartość minimalna"
   ]
  },
  {
   "cell_type": "code",
   "execution_count": 17,
   "metadata": {},
   "outputs": [
    {
     "name": "stdout",
     "output_type": "stream",
     "text": [
      "0       1.00\n",
      "1      11.03\n",
      "2       0.74\n",
      "3       1.36\n",
      "4      10.60\n",
      "5      70.00\n",
      "6       0.98\n",
      "7       0.34\n",
      "8       0.13\n",
      "9       0.41\n",
      "10      1.28\n",
      "11      0.48\n",
      "12      1.27\n",
      "13    278.00\n",
      "dtype: float64\n"
     ]
    }
   ],
   "source": [
    "print(zad2.min(axis=0))"
   ]
  },
  {
   "cell_type": "markdown",
   "metadata": {},
   "source": [
    "### Wartość maksymalna"
   ]
  },
  {
   "cell_type": "code",
   "execution_count": 18,
   "metadata": {},
   "outputs": [
    {
     "name": "stdout",
     "output_type": "stream",
     "text": [
      "0        3.00\n",
      "1       14.83\n",
      "2        5.80\n",
      "3        3.23\n",
      "4       30.00\n",
      "5      162.00\n",
      "6        3.88\n",
      "7        5.08\n",
      "8        0.66\n",
      "9        3.58\n",
      "10      13.00\n",
      "11       1.71\n",
      "12       4.00\n",
      "13    1680.00\n",
      "dtype: float64\n"
     ]
    }
   ],
   "source": [
    "print(zad2.max(axis=0))"
   ]
  },
  {
   "cell_type": "markdown",
   "metadata": {},
   "source": [
    "### Wartość średnia"
   ]
  },
  {
   "cell_type": "code",
   "execution_count": 19,
   "metadata": {},
   "outputs": [
    {
     "name": "stdout",
     "output_type": "stream",
     "text": [
      "0       1.938202\n",
      "1      13.000618\n",
      "2       2.336348\n",
      "3       2.366517\n",
      "4      19.494944\n",
      "5      99.741573\n",
      "6       2.295112\n",
      "7       2.029270\n",
      "8       0.361854\n",
      "9       1.590899\n",
      "10      5.058090\n",
      "11      0.957449\n",
      "12      2.611685\n",
      "13    746.893258\n",
      "dtype: float64\n"
     ]
    }
   ],
   "source": [
    "print(zad2.mean(axis=0))"
   ]
  },
  {
   "cell_type": "markdown",
   "metadata": {},
   "source": [
    "### Mediana"
   ]
  },
  {
   "cell_type": "code",
   "execution_count": 20,
   "metadata": {},
   "outputs": [
    {
     "name": "stdout",
     "output_type": "stream",
     "text": [
      "0       2.000\n",
      "1      13.050\n",
      "2       1.865\n",
      "3       2.360\n",
      "4      19.500\n",
      "5      98.000\n",
      "6       2.355\n",
      "7       2.135\n",
      "8       0.340\n",
      "9       1.555\n",
      "10      4.690\n",
      "11      0.965\n",
      "12      2.780\n",
      "13    673.500\n",
      "dtype: float64\n"
     ]
    }
   ],
   "source": [
    "print(zad2.median(axis=0))"
   ]
  },
  {
   "cell_type": "markdown",
   "metadata": {},
   "source": [
    "### Odchylenie standardowe"
   ]
  },
  {
   "cell_type": "code",
   "execution_count": 21,
   "metadata": {},
   "outputs": [
    {
     "name": "stdout",
     "output_type": "stream",
     "text": [
      "0       0.775035\n",
      "1       0.811827\n",
      "2       1.117146\n",
      "3       0.274344\n",
      "4       3.339564\n",
      "5      14.282484\n",
      "6       0.625851\n",
      "7       0.998859\n",
      "8       0.124453\n",
      "9       0.572359\n",
      "10      2.318286\n",
      "11      0.228572\n",
      "12      0.709990\n",
      "13    314.907474\n",
      "dtype: float64\n"
     ]
    }
   ],
   "source": [
    "print(zad2.std(axis=0))"
   ]
  },
  {
   "cell_type": "markdown",
   "metadata": {},
   "source": [
    "### 3) Wartości średnie zmiennych dla win odmiany 1"
   ]
  },
  {
   "cell_type": "code",
   "execution_count": 44,
   "metadata": {},
   "outputs": [
    {
     "name": "stdout",
     "output_type": "stream",
     "text": [
      "0        1.000000\n",
      "1       13.744746\n",
      "2        2.010678\n",
      "3        2.455593\n",
      "4       17.037288\n",
      "5      106.338983\n",
      "6        2.840169\n",
      "7        2.982373\n",
      "8        0.290000\n",
      "9        1.899322\n",
      "10       5.528305\n",
      "11       1.062034\n",
      "12       3.157797\n",
      "13    1115.711864\n",
      "dtype: float64\n"
     ]
    }
   ],
   "source": [
    "avgw1 = zad2.loc[zad2[0] == 1]\n",
    "\n",
    "print(avgw1.mean(axis=0))\n"
   ]
  },
  {
   "cell_type": "markdown",
   "metadata": {},
   "source": [
    "### 4) Histogram zmiennej o charakterze ciągłym dla całego zbioru danych"
   ]
  },
  {
   "cell_type": "code",
   "execution_count": 52,
   "metadata": {},
   "outputs": [
    {
     "data": {
      "text/plain": [
       "(array([ 1., 10., 19., 31., 21., 27., 25., 25., 17.,  2.]),\n",
       " array([11.03, 11.41, 11.79, 12.17, 12.55, 12.93, 13.31, 13.69, 14.07,\n",
       "        14.45, 14.83]),\n",
       " <a list of 10 Patch objects>)"
      ]
     },
     "execution_count": 52,
     "metadata": {},
     "output_type": "execute_result"
    },
    {
     "data": {
      "image/png": "[encoded data removed]",
      "text/plain": [
       "<Figure size 432x288 with 1 Axes>"
      ]
     },
     "metadata": {
      "needs_background": "light"
     },
     "output_type": "display_data"
    }
   ],
   "source": [
    "alcohol = zad2[1]\n",
    "plt.hist(alcohol)"
   ]
  },
  {
   "cell_type": "markdown",
   "metadata": {},
   "source": [
    "### 5) Histogramy zmiennej dla 3 odmian win"
   ]
  },
  {
   "cell_type": "code",
   "execution_count": 64,
   "metadata": {},
   "outputs": [
    {
     "data": {
      "text/plain": [
       "(array([5., 1., 5., 7., 9., 7., 5., 4., 3., 2.]),\n",
       " array([1.24 , 1.681, 2.122, 2.563, 3.004, 3.445, 3.886, 4.327, 4.768,\n",
       "        5.209, 5.65 ]),\n",
       " <a list of 1 Patch objects>)"
      ]
     },
     "execution_count": 64,
     "metadata": {},
     "output_type": "execute_result"
    },
    {
     "data": {
      "image/png": "[encoded data removed]",
      "text/plain": [
       "<Figure size 432x288 with 1 Axes>"
      ]
     },
     "metadata": {
      "needs_background": "light"
     },
     "output_type": "display_data"
    }
   ],
   "source": [
    "wina1MA = zad2.loc[zad2[0] == 1]\n",
    "wina1MA = wina1MA[2]\n",
    "wina2MA = zad2.loc[zad2[0] == 2]\n",
    "wina2MA = wina2MA[2]\n",
    "wina3MA = zad2.loc[zad2[0] == 3]\n",
    "wina3MA = wina3MA[2]\n",
    "\n",
    "plt.hist(wina1MA, color='red', histtype='step')\n",
    "plt.hist(wina2MA, color='blue', histtype='step')\n",
    "plt.hist(wina3MA, color='green', histtype='step')"
   ]
  },
  {
   "cell_type": "markdown",
   "metadata": {},
   "source": [
    "### 6) Liczebność win"
   ]
  },
  {
   "cell_type": "code",
   "execution_count": 72,
   "metadata": {},
   "outputs": [
    {
     "name": "stdout",
     "output_type": "stream",
     "text": [
      "Wina odmiany 1: 59\n",
      "Wina odmiany 2: 71\n",
      "Wina odmiany 3: 48\n"
     ]
    },
    {
     "data": {
      "image/png": "[encoded data removed]",
      "text/plain": [
       "<Figure size 432x288 with 1 Axes>"
      ]
     },
     "metadata": {},
     "output_type": "display_data"
    }
   ],
   "source": [
    "print(\"Wina odmiany 1:\", wina1MA.count())\n",
    "print(\"Wina odmiany 2:\", wina2MA.count())\n",
    "print(\"Wina odmiany 3:\", wina3MA.count())\n",
    "\n",
    "labels = 'Odmiana 1', 'Odmiana 2', 'Odmiana 3'\n",
    "sizes = [wina1MA.count(), wina2MA.count(), wina3MA.count()]\n",
    "explode = (0,0.1,0)\n",
    "\n",
    "fig1, ax1 = plt.subplots()\n",
    "ax1.pie(sizes, explode=explode, labels=labels, shadow=True, autopct='%1.1f%%')\n",
    "ax1.axis('equal')\n",
    "plt.show()"
   ]
  },
  {
   "cell_type": "markdown",
   "metadata": {},
   "source": [
    "### 7) Wykres rozrzutu"
   ]
  },
  {
   "cell_type": "code",
   "execution_count": 90,
   "metadata": {
    "scrolled": true
   },
   "outputs": [
    {
     "data": {
      "image/png": "[encoded data removed]",
      "text/plain": [
       "<Figure size 432x288 with 1 Axes>"
      ]
     },
     "metadata": {
      "needs_background": "light"
     },
     "output_type": "display_data"
    }
   ],
   "source": [
    "# POSZUKIWANIA\n",
    "# for i in np.linspace(0,12,13):\n",
    "#     for j in np.linspace(0,12,13):\n",
    "#         print(i,j)\n",
    "#         plt.scatter(zad2[i],zad2[j])\n",
    "#         plt.show()\n",
    "\n",
    "plt.scatter(zad2[7],zad2[12])\n",
    "plt.show()"
   ]
  },
  {
   "cell_type": "markdown",
   "metadata": {},
   "source": [
    "### 8) Wykres rozrzutu dla różnych odmian"
   ]
  },
  {
   "cell_type": "code",
   "execution_count": 98,
   "metadata": {
    "scrolled": true
   },
   "outputs": [
    {
     "data": {
      "image/png": "[encoded data removed]",
      "text/plain": [
       "<Figure size 432x288 with 1 Axes>"
      ]
     },
     "metadata": {
      "needs_background": "light"
     },
     "output_type": "display_data"
    }
   ],
   "source": [
    "wina1 = zad2.loc[zad2[0] == 1]\n",
    "wina2 = zad2.loc[zad2[0] == 2]\n",
    "wina3 = zad2.loc[zad2[0] == 3]\n",
    "\n",
    "# for i in np.linspace(0,13,14):\n",
    "#      for j in np.linspace(0,13,14):\n",
    "#          print(i,j)\n",
    "#          plt.scatter(wina1[i],wina1[j])\n",
    "#          plt.scatter(wina2[i],wina2[j])\n",
    "#          plt.scatter(wina3[i],wina3[j])\n",
    "#          plt.show()\n",
    "\n",
    "plt.scatter(wina1[7],wina1[1])\n",
    "plt.scatter(wina2[7],wina2[1])\n",
    "plt.scatter(wina3[7],wina3[1])\n",
    "plt.show()"
   ]
  },
  {
   "cell_type": "code",
   "execution_count": null,
   "metadata": {},
   "outputs": [],
   "source": []
  }
 ],
 "metadata": {
  "kernelspec": {
   "display_name": "Python 3",
   "language": "python",
   "name": "python3"
  },
  "language_info": {
   "codemirror_mode": {
    "name": "ipython",
    "version": 3
   },
   "file_extension": ".py",
   "mimetype": "text/x-python",
   "name": "python",
   "nbconvert_exporter": "python",
   "pygments_lexer": "ipython3",
   "version": "3.7.6"
  }
 },
 "nbformat": 4,
 "nbformat_minor": 4
}
