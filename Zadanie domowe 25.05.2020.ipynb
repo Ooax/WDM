{
 "cells": [
  {
   "cell_type": "markdown",
   "metadata": {},
   "source": [
    "# Zadanie V"
   ]
  },
  {
   "cell_type": "code",
   "execution_count": null,
   "metadata": {},
   "outputs": [],
   "source": [
    "conda install matplotlib"
   ]
  },
  {
   "cell_type": "code",
   "execution_count": null,
   "metadata": {},
   "outputs": [],
   "source": [
    "conda install scikit-learn"
   ]
  },
  {
   "cell_type": "code",
   "execution_count": null,
   "metadata": {},
   "outputs": [],
   "source": []
  },
  {
   "cell_type": "markdown",
   "metadata": {},
   "source": [
    "### Importowanie"
   ]
  },
  {
   "cell_type": "code",
   "execution_count": 5,
   "metadata": {},
   "outputs": [],
   "source": [
    "import matplotlib.pyplot as plt"
   ]
  },
  {
   "cell_type": "code",
   "execution_count": 6,
   "metadata": {},
   "outputs": [],
   "source": [
    "import numpy as np"
   ]
  },
  {
   "cell_type": "code",
   "execution_count": 7,
   "metadata": {},
   "outputs": [],
   "source": [
    "from sklearn import datasets"
   ]
  },
  {
   "cell_type": "code",
   "execution_count": 11,
   "metadata": {},
   "outputs": [],
   "source": [
    "from sklearn import model_selection"
   ]
  },
  {
   "cell_type": "code",
   "execution_count": 14,
   "metadata": {},
   "outputs": [],
   "source": [
    "from sklearn import tree"
   ]
  },
  {
   "cell_type": "code",
   "execution_count": null,
   "metadata": {},
   "outputs": [],
   "source": []
  },
  {
   "cell_type": "markdown",
   "metadata": {},
   "source": [
    "### Zadanie"
   ]
  },
  {
   "cell_type": "code",
   "execution_count": 8,
   "metadata": {},
   "outputs": [],
   "source": [
    "wine = datasets.load_wine()"
   ]
  },
  {
   "cell_type": "code",
   "execution_count": 9,
   "metadata": {},
   "outputs": [
    {
     "name": "stdout",
     "output_type": "stream",
     "text": [
      "Ilość zmiennych:  13\n",
      "Nazwy zmiennych:  ['alcohol', 'malic_acid', 'ash', 'alcalinity_of_ash', 'magnesium', 'total_phenols', 'flavanoids', 'nonflavanoid_phenols', 'proanthocyanins', 'color_intensity', 'hue', 'od280/od315_of_diluted_wines', 'proline']\n",
      "Etykiety klas:  ['class_0' 'class_1' 'class_2']\n",
      "Wartości wyjściowe:  [0 1 2]\n",
      "Ilość klas:  3\n",
      "Ilość przypadków:  178\n"
     ]
    }
   ],
   "source": [
    "print('Ilość zmiennych: ', wine.data.shape[1])\n",
    "print('Nazwy zmiennych: ', wine.feature_names)\n",
    "print('Etykiety klas: ', wine.target_names)\n",
    "print('Wartości wyjściowe: ', np.unique(wine.target))\n",
    "print('Ilość klas: ', len(np.unique(wine.target)))\n",
    "print('Ilość przypadków: ', wine.data.shape[0])"
   ]
  },
  {
   "cell_type": "code",
   "execution_count": 10,
   "metadata": {
    "scrolled": true
   },
   "outputs": [
    {
     "name": "stdout",
     "output_type": "stream",
     "text": [
      ".. _wine_dataset:\n",
      "\n",
      "Wine recognition dataset\n",
      "------------------------\n",
      "\n",
      "**Data Set Characteristics:**\n",
      "\n",
      "    :Number of Instances: 178 (50 in each of three classes)\n",
      "    :Number of Attributes: 13 numeric, predictive attributes and the class\n",
      "    :Attribute Information:\n",
      " \t\t- Alcohol\n",
      " \t\t- Malic acid\n",
      " \t\t- Ash\n",
      "\t\t- Alcalinity of ash  \n",
      " \t\t- Magnesium\n",
      "\t\t- Total phenols\n",
      " \t\t- Flavanoids\n",
      " \t\t- Nonflavanoid phenols\n",
      " \t\t- Proanthocyanins\n",
      "\t\t- Color intensity\n",
      " \t\t- Hue\n",
      " \t\t- OD280/OD315 of diluted wines\n",
      " \t\t- Proline\n",
      "\n",
      "    - class:\n",
      "            - class_0\n",
      "            - class_1\n",
      "            - class_2\n",
      "\t\t\n",
      "    :Summary Statistics:\n",
      "    \n",
      "    ============================= ==== ===== ======= =====\n",
      "                                   Min   Max   Mean     SD\n",
      "    ============================= ==== ===== ======= =====\n",
      "    Alcohol:                      11.0  14.8    13.0   0.8\n",
      "    Malic Acid:                   0.74  5.80    2.34  1.12\n",
      "    Ash:                          1.36  3.23    2.36  0.27\n",
      "    Alcalinity of Ash:            10.6  30.0    19.5   3.3\n",
      "    Magnesium:                    70.0 162.0    99.7  14.3\n",
      "    Total Phenols:                0.98  3.88    2.29  0.63\n",
      "    Flavanoids:                   0.34  5.08    2.03  1.00\n",
      "    Nonflavanoid Phenols:         0.13  0.66    0.36  0.12\n",
      "    Proanthocyanins:              0.41  3.58    1.59  0.57\n",
      "    Colour Intensity:              1.3  13.0     5.1   2.3\n",
      "    Hue:                          0.48  1.71    0.96  0.23\n",
      "    OD280/OD315 of diluted wines: 1.27  4.00    2.61  0.71\n",
      "    Proline:                       278  1680     746   315\n",
      "    ============================= ==== ===== ======= =====\n",
      "\n",
      "    :Missing Attribute Values: None\n",
      "    :Class Distribution: class_0 (59), class_1 (71), class_2 (48)\n",
      "    :Creator: R.A. Fisher\n",
      "    :Donor: Michael Marshall (MARSHALL%PLU@io.arc.nasa.gov)\n",
      "    :Date: July, 1988\n",
      "\n",
      "This is a copy of UCI ML Wine recognition datasets.\n",
      "https://archive.ics.uci.edu/ml/machine-learning-databases/wine/wine.data\n",
      "\n",
      "The data is the results of a chemical analysis of wines grown in the same\n",
      "region in Italy by three different cultivators. There are thirteen different\n",
      "measurements taken for different constituents found in the three types of\n",
      "wine.\n",
      "\n",
      "Original Owners: \n",
      "\n",
      "Forina, M. et al, PARVUS - \n",
      "An Extendible Package for Data Exploration, Classification and Correlation. \n",
      "Institute of Pharmaceutical and Food Analysis and Technologies,\n",
      "Via Brigata Salerno, 16147 Genoa, Italy.\n",
      "\n",
      "Citation:\n",
      "\n",
      "Lichman, M. (2013). UCI Machine Learning Repository\n",
      "[https://archive.ics.uci.edu/ml]. Irvine, CA: University of California,\n",
      "School of Information and Computer Science. \n",
      "\n",
      ".. topic:: References\n",
      "\n",
      "  (1) S. Aeberhard, D. Coomans and O. de Vel, \n",
      "  Comparison of Classifiers in High Dimensional Settings, \n",
      "  Tech. Rep. no. 92-02, (1992), Dept. of Computer Science and Dept. of  \n",
      "  Mathematics and Statistics, James Cook University of North Queensland. \n",
      "  (Also submitted to Technometrics). \n",
      "\n",
      "  The data was used with many others for comparing various \n",
      "  classifiers. The classes are separable, though only RDA \n",
      "  has achieved 100% correct classification. \n",
      "  (RDA : 100%, QDA 99.4%, LDA 98.9%, 1NN 96.1% (z-transformed data)) \n",
      "  (All results using the leave-one-out technique) \n",
      "\n",
      "  (2) S. Aeberhard, D. Coomans and O. de Vel, \n",
      "  \"THE CLASSIFICATION PERFORMANCE OF RDA\" \n",
      "  Tech. Rep. no. 92-01, (1992), Dept. of Computer Science and Dept. of \n",
      "  Mathematics and Statistics, James Cook University of North Queensland. \n",
      "  (Also submitted to Journal of Chemometrics).\n",
      "\n"
     ]
    }
   ],
   "source": [
    "print(wine.DESCR)"
   ]
  },
  {
   "cell_type": "code",
   "execution_count": 55,
   "metadata": {},
   "outputs": [],
   "source": [
    "data_target = wine.target"
   ]
  },
  {
   "cell_type": "code",
   "execution_count": 54,
   "metadata": {},
   "outputs": [],
   "source": [
    "x_train, x_test, y_train, y_test = model_selection.train_test_split(wine.data, data_target, test_size=0.3\\\n",
    "                                                                    , random_state=13)"
   ]
  },
  {
   "cell_type": "markdown",
   "metadata": {},
   "source": [
    "## Drzewo decyzyjne"
   ]
  },
  {
   "cell_type": "code",
   "execution_count": 17,
   "metadata": {},
   "outputs": [],
   "source": [
    "clf = tree.DecisionTreeClassifier()"
   ]
  },
  {
   "cell_type": "code",
   "execution_count": 56,
   "metadata": {
    "scrolled": false
   },
   "outputs": [
    {
     "data": {
      "text/plain": [
       "DecisionTreeClassifier()"
      ]
     },
     "execution_count": 56,
     "metadata": {},
     "output_type": "execute_result"
    }
   ],
   "source": [
    "clf.fit(x_train, y_train)"
   ]
  },
  {
   "cell_type": "code",
   "execution_count": 59,
   "metadata": {},
   "outputs": [],
   "source": [
    "def accuracy_score(target, predicted):\n",
    "    return np.mean(target == predicted)"
   ]
  },
  {
   "cell_type": "code",
   "execution_count": 66,
   "metadata": {},
   "outputs": [
    {
     "name": "stdout",
     "output_type": "stream",
     "text": [
      "Test accuracy: 0.87\n",
      "Train accuracy: 1.00\n"
     ]
    }
   ],
   "source": [
    "predicted_test = clf.predict(x_test)\n",
    "predicted_train = clf.predict(x_train)\n",
    "\n",
    "print('Test accuracy: %.2f' % (accuracy_score(y_test, predicted_test)))\n",
    "print('Train accuracy: %.2f' % (accuracy_score(y_train, predicted_train)))"
   ]
  },
  {
   "cell_type": "code",
   "execution_count": 65,
   "metadata": {},
   "outputs": [
    {
     "name": "stdout",
     "output_type": "stream",
     "text": [
      "Depth:  6\n"
     ]
    }
   ],
   "source": [
    "print('Depth: ', clf.tree_.max_depth)\n",
    "#print(tree.export_text(clf, feature_names=wine.feature_names))"
   ]
  },
  {
   "cell_type": "code",
   "execution_count": 235,
   "metadata": {},
   "outputs": [
    {
     "name": "stdout",
     "output_type": "stream",
     "text": [
      "Test accuracy: 0.96\n",
      "Train accuracy: 0.98\n"
     ]
    }
   ],
   "source": [
    "clf = tree.DecisionTreeClassifier(max_depth=3)\n",
    "clf.fit(x_train, y_train)\n",
    "\n",
    "predicted_test = clf.predict(x_test)\n",
    "predicted_train = clf.predict(x_train)\n",
    "\n",
    "print('Test accuracy: %.2f' % (accuracy_score(y_test, predicted_test)))\n",
    "print('Train accuracy: %.2f' % (accuracy_score(y_train, predicted_train)))"
   ]
  },
  {
   "cell_type": "code",
   "execution_count": 92,
   "metadata": {},
   "outputs": [
    {
     "data": {
      "text/plain": [
       "{'whiskers': [<matplotlib.lines.Line2D at 0x7fcea19a95d0>,\n",
       "  <matplotlib.lines.Line2D at 0x7fcea19a9b10>,\n",
       "  <matplotlib.lines.Line2D at 0x7fcea19bdc90>,\n",
       "  <matplotlib.lines.Line2D at 0x7fcea19c41d0>,\n",
       "  <matplotlib.lines.Line2D at 0x7fcea19541d0>,\n",
       "  <matplotlib.lines.Line2D at 0x7fcea1954750>,\n",
       "  <matplotlib.lines.Line2D at 0x7fcea1962790>,\n",
       "  <matplotlib.lines.Line2D at 0x7fcea1962cd0>,\n",
       "  <matplotlib.lines.Line2D at 0x7fcea1971d50>,\n",
       "  <matplotlib.lines.Line2D at 0x7fcea1979290>,\n",
       "  <matplotlib.lines.Line2D at 0x7fcea19092d0>,\n",
       "  <matplotlib.lines.Line2D at 0x7fcea1909810>,\n",
       "  <matplotlib.lines.Line2D at 0x7fcea1916810>,\n",
       "  <matplotlib.lines.Line2D at 0x7fcea1916d50>,\n",
       "  <matplotlib.lines.Line2D at 0x7fcea1928d50>,\n",
       "  <matplotlib.lines.Line2D at 0x7fcea192d2d0>,\n",
       "  <matplotlib.lines.Line2D at 0x7fcea1936e10>,\n",
       "  <matplotlib.lines.Line2D at 0x7fcea193e390>,\n",
       "  <matplotlib.lines.Line2D at 0x7fcea18cf310>,\n",
       "  <matplotlib.lines.Line2D at 0x7fcea18cf850>,\n",
       "  <matplotlib.lines.Line2D at 0x7fcea18dd850>,\n",
       "  <matplotlib.lines.Line2D at 0x7fcea18ddd90>,\n",
       "  <matplotlib.lines.Line2D at 0x7fcea18edd90>,\n",
       "  <matplotlib.lines.Line2D at 0x7fcea18f5310>,\n",
       "  <matplotlib.lines.Line2D at 0x7fcea1903310>,\n",
       "  <matplotlib.lines.Line2D at 0x7fcea1903850>],\n",
       " 'caps': [<matplotlib.lines.Line2D at 0x7fcea19b4090>,\n",
       "  <matplotlib.lines.Line2D at 0x7fcea19b45d0>,\n",
       "  <matplotlib.lines.Line2D at 0x7fcea19c4710>,\n",
       "  <matplotlib.lines.Line2D at 0x7fcea19c4c50>,\n",
       "  <matplotlib.lines.Line2D at 0x7fcea1954c90>,\n",
       "  <matplotlib.lines.Line2D at 0x7fcea195b250>,\n",
       "  <matplotlib.lines.Line2D at 0x7fcea196a250>,\n",
       "  <matplotlib.lines.Line2D at 0x7fcea196a790>,\n",
       "  <matplotlib.lines.Line2D at 0x7fcea19797d0>,\n",
       "  <matplotlib.lines.Line2D at 0x7fcea1979cd0>,\n",
       "  <matplotlib.lines.Line2D at 0x7fcea1909d50>,\n",
       "  <matplotlib.lines.Line2D at 0x7fcea190f2d0>,\n",
       "  <matplotlib.lines.Line2D at 0x7fcea19202d0>,\n",
       "  <matplotlib.lines.Line2D at 0x7fcea1920810>,\n",
       "  <matplotlib.lines.Line2D at 0x7fcea192d810>,\n",
       "  <matplotlib.lines.Line2D at 0x7fcea192dd50>,\n",
       "  <matplotlib.lines.Line2D at 0x7fcea193e8d0>,\n",
       "  <matplotlib.lines.Line2D at 0x7fcea193ee10>,\n",
       "  <matplotlib.lines.Line2D at 0x7fcea18cfd90>,\n",
       "  <matplotlib.lines.Line2D at 0x7fcea18d4310>,\n",
       "  <matplotlib.lines.Line2D at 0x7fcea18e5310>,\n",
       "  <matplotlib.lines.Line2D at 0x7fcea18e5850>,\n",
       "  <matplotlib.lines.Line2D at 0x7fcea18f5850>,\n",
       "  <matplotlib.lines.Line2D at 0x7fcea18f5d90>,\n",
       "  <matplotlib.lines.Line2D at 0x7fcea1903d90>,\n",
       "  <matplotlib.lines.Line2D at 0x7fcea188b310>],\n",
       " 'boxes': [<matplotlib.lines.Line2D at 0x7fcea199bf90>,\n",
       "  <matplotlib.lines.Line2D at 0x7fcea19bd690>,\n",
       "  <matplotlib.lines.Line2D at 0x7fcea194bc50>,\n",
       "  <matplotlib.lines.Line2D at 0x7fcea1962250>,\n",
       "  <matplotlib.lines.Line2D at 0x7fcea19717d0>,\n",
       "  <matplotlib.lines.Line2D at 0x7fcea1981d50>,\n",
       "  <matplotlib.lines.Line2D at 0x7fcea1916290>,\n",
       "  <matplotlib.lines.Line2D at 0x7fcea19287d0>,\n",
       "  <matplotlib.lines.Line2D at 0x7fcea19368d0>,\n",
       "  <matplotlib.lines.Line2D at 0x7fcea18c7d50>,\n",
       "  <matplotlib.lines.Line2D at 0x7fcea18dd310>,\n",
       "  <matplotlib.lines.Line2D at 0x7fcea18ed850>,\n",
       "  <matplotlib.lines.Line2D at 0x7fcea18fcd50>],\n",
       " 'medians': [<matplotlib.lines.Line2D at 0x7fcea19b4b50>,\n",
       "  <matplotlib.lines.Line2D at 0x7fcea194b1d0>,\n",
       "  <matplotlib.lines.Line2D at 0x7fcea195b790>,\n",
       "  <matplotlib.lines.Line2D at 0x7fcea196acd0>,\n",
       "  <matplotlib.lines.Line2D at 0x7fcea1981250>,\n",
       "  <matplotlib.lines.Line2D at 0x7fcea190f810>,\n",
       "  <matplotlib.lines.Line2D at 0x7fcea1920d50>,\n",
       "  <matplotlib.lines.Line2D at 0x7fcea19362d0>,\n",
       "  <matplotlib.lines.Line2D at 0x7fcea18c7390>,\n",
       "  <matplotlib.lines.Line2D at 0x7fcea18d4850>,\n",
       "  <matplotlib.lines.Line2D at 0x7fcea18e5d90>,\n",
       "  <matplotlib.lines.Line2D at 0x7fcea18fc310>,\n",
       "  <matplotlib.lines.Line2D at 0x7fcea188b850>],\n",
       " 'fliers': [<matplotlib.lines.Line2D at 0x7fcea19bd090>,\n",
       "  <matplotlib.lines.Line2D at 0x7fcea194b710>,\n",
       "  <matplotlib.lines.Line2D at 0x7fcea195bcd0>,\n",
       "  <matplotlib.lines.Line2D at 0x7fcea1971250>,\n",
       "  <matplotlib.lines.Line2D at 0x7fcea19817d0>,\n",
       "  <matplotlib.lines.Line2D at 0x7fcea190fd50>,\n",
       "  <matplotlib.lines.Line2D at 0x7fcea19282d0>,\n",
       "  <matplotlib.lines.Line2D at 0x7fcea1936110>,\n",
       "  <matplotlib.lines.Line2D at 0x7fcea18c7890>,\n",
       "  <matplotlib.lines.Line2D at 0x7fcea18d4d90>,\n",
       "  <matplotlib.lines.Line2D at 0x7fcea18ed310>,\n",
       "  <matplotlib.lines.Line2D at 0x7fcea18fc850>,\n",
       "  <matplotlib.lines.Line2D at 0x7fcea188bd90>],\n",
       " 'means': []}"
      ]
     },
     "execution_count": 92,
     "metadata": {},
     "output_type": "execute_result"
    },
    {
     "data": {
      "image/png": "[encoded data removed]",
      "text/plain": [
       "<Figure size 432x288 with 1 Axes>"
      ]
     },
     "metadata": {
      "needs_background": "light"
     },
     "output_type": "display_data"
    }
   ],
   "source": [
    "dt_mean = np.mean(x_train, axis=0)\n",
    "dt_std = np.std(x_train, axis=0)\n",
    "\n",
    "x_train_std = (x_train - dt_mean)/dt_std\n",
    "\n",
    "plt.boxplot(x_train_std, vert=False, labels=wine.feature_names)"
   ]
  },
  {
   "cell_type": "code",
   "execution_count": 93,
   "metadata": {},
   "outputs": [
    {
     "data": {
      "text/plain": [
       "{'whiskers': [<matplotlib.lines.Line2D at 0x7fcea1867210>,\n",
       "  <matplotlib.lines.Line2D at 0x7fcea1a2c490>,\n",
       "  <matplotlib.lines.Line2D at 0x7fcea181dd90>,\n",
       "  <matplotlib.lines.Line2D at 0x7fcea1a36b90>,\n",
       "  <matplotlib.lines.Line2D at 0x7fcea18356d0>,\n",
       "  <matplotlib.lines.Line2D at 0x7fcea1835d90>,\n",
       "  <matplotlib.lines.Line2D at 0x7fcea177e650>,\n",
       "  <matplotlib.lines.Line2D at 0x7fcea177eb90>,\n",
       "  <matplotlib.lines.Line2D at 0x7fcea1792c10>,\n",
       "  <matplotlib.lines.Line2D at 0x7fcea179b150>,\n",
       "  <matplotlib.lines.Line2D at 0x7fcea17aa190>,\n",
       "  <matplotlib.lines.Line2D at 0x7fcea17aa6d0>,\n",
       "  <matplotlib.lines.Line2D at 0x7fcea17bc6d0>,\n",
       "  <matplotlib.lines.Line2D at 0x7fcea17bcc10>,\n",
       "  <matplotlib.lines.Line2D at 0x7fcea174ec10>,\n",
       "  <matplotlib.lines.Line2D at 0x7fcea1756190>,\n",
       "  <matplotlib.lines.Line2D at 0x7fcea1767110>,\n",
       "  <matplotlib.lines.Line2D at 0x7fcea1767650>,\n",
       "  <matplotlib.lines.Line2D at 0x7fcea17775d0>,\n",
       "  <matplotlib.lines.Line2D at 0x7fcea1777b10>,\n",
       "  <matplotlib.lines.Line2D at 0x7fcea1708b10>,\n",
       "  <matplotlib.lines.Line2D at 0x7fcea170f090>,\n",
       "  <matplotlib.lines.Line2D at 0x7fcea1721090>,\n",
       "  <matplotlib.lines.Line2D at 0x7fcea17215d0>,\n",
       "  <matplotlib.lines.Line2D at 0x7fcea17315d0>,\n",
       "  <matplotlib.lines.Line2D at 0x7fcea1731b10>],\n",
       " 'caps': [<matplotlib.lines.Line2D at 0x7fcea1857c10>,\n",
       "  <matplotlib.lines.Line2D at 0x7fcea181c410>,\n",
       "  <matplotlib.lines.Line2D at 0x7fcea1a1c6d0>,\n",
       "  <matplotlib.lines.Line2D at 0x7fcea1825d50>,\n",
       "  <matplotlib.lines.Line2D at 0x7fcea180c210>,\n",
       "  <matplotlib.lines.Line2D at 0x7fcea22084d0>,\n",
       "  <matplotlib.lines.Line2D at 0x7fcea178a110>,\n",
       "  <matplotlib.lines.Line2D at 0x7fcea178a650>,\n",
       "  <matplotlib.lines.Line2D at 0x7fcea179b690>,\n",
       "  <matplotlib.lines.Line2D at 0x7fcea179bb90>,\n",
       "  <matplotlib.lines.Line2D at 0x7fcea17aac10>,\n",
       "  <matplotlib.lines.Line2D at 0x7fcea17b5190>,\n",
       "  <matplotlib.lines.Line2D at 0x7fcea1744190>,\n",
       "  <matplotlib.lines.Line2D at 0x7fcea17446d0>,\n",
       "  <matplotlib.lines.Line2D at 0x7fcea17566d0>,\n",
       "  <matplotlib.lines.Line2D at 0x7fcea1756c10>,\n",
       "  <matplotlib.lines.Line2D at 0x7fcea1767b90>,\n",
       "  <matplotlib.lines.Line2D at 0x7fcea176e110>,\n",
       "  <matplotlib.lines.Line2D at 0x7fcea16ff090>,\n",
       "  <matplotlib.lines.Line2D at 0x7fcea16ff5d0>,\n",
       "  <matplotlib.lines.Line2D at 0x7fcea170f5d0>,\n",
       "  <matplotlib.lines.Line2D at 0x7fcea170fb10>,\n",
       "  <matplotlib.lines.Line2D at 0x7fcea1721b10>,\n",
       "  <matplotlib.lines.Line2D at 0x7fcea1729090>,\n",
       "  <matplotlib.lines.Line2D at 0x7fcea173b090>,\n",
       "  <matplotlib.lines.Line2D at 0x7fcea173b5d0>],\n",
       " 'boxes': [<matplotlib.lines.Line2D at 0x7fcea18674d0>,\n",
       "  <matplotlib.lines.Line2D at 0x7fcea181dc10>,\n",
       "  <matplotlib.lines.Line2D at 0x7fcea18c2b10>,\n",
       "  <matplotlib.lines.Line2D at 0x7fcea177e0d0>,\n",
       "  <matplotlib.lines.Line2D at 0x7fcea1792650>,\n",
       "  <matplotlib.lines.Line2D at 0x7fcea17a2c10>,\n",
       "  <matplotlib.lines.Line2D at 0x7fcea17bc150>,\n",
       "  <matplotlib.lines.Line2D at 0x7fcea174e690>,\n",
       "  <matplotlib.lines.Line2D at 0x7fcea175db90>,\n",
       "  <matplotlib.lines.Line2D at 0x7fcea1777090>,\n",
       "  <matplotlib.lines.Line2D at 0x7fcea17085d0>,\n",
       "  <matplotlib.lines.Line2D at 0x7fcea1719ad0>,\n",
       "  <matplotlib.lines.Line2D at 0x7fcea1731050>],\n",
       " 'medians': [<matplotlib.lines.Line2D at 0x7fcea1875350>,\n",
       "  <matplotlib.lines.Line2D at 0x7fcea1825c10>,\n",
       "  <matplotlib.lines.Line2D at 0x7fcea1839650>,\n",
       "  <matplotlib.lines.Line2D at 0x7fcea178ab90>,\n",
       "  <matplotlib.lines.Line2D at 0x7fcea17a2110>,\n",
       "  <matplotlib.lines.Line2D at 0x7fcea17b56d0>,\n",
       "  <matplotlib.lines.Line2D at 0x7fcea1744c10>,\n",
       "  <matplotlib.lines.Line2D at 0x7fcea175d190>,\n",
       "  <matplotlib.lines.Line2D at 0x7fcea176e650>,\n",
       "  <matplotlib.lines.Line2D at 0x7fcea16ffb10>,\n",
       "  <matplotlib.lines.Line2D at 0x7fcea1719090>,\n",
       "  <matplotlib.lines.Line2D at 0x7fcea17295d0>,\n",
       "  <matplotlib.lines.Line2D at 0x7fcea173bb10>],\n",
       " 'fliers': [<matplotlib.lines.Line2D at 0x7fcea1875410>,\n",
       "  <matplotlib.lines.Line2D at 0x7fcea1832450>,\n",
       "  <matplotlib.lines.Line2D at 0x7fcea1839b90>,\n",
       "  <matplotlib.lines.Line2D at 0x7fcea1792110>,\n",
       "  <matplotlib.lines.Line2D at 0x7fcea17a2690>,\n",
       "  <matplotlib.lines.Line2D at 0x7fcea17b5c10>,\n",
       "  <matplotlib.lines.Line2D at 0x7fcea174e190>,\n",
       "  <matplotlib.lines.Line2D at 0x7fcea175d6d0>,\n",
       "  <matplotlib.lines.Line2D at 0x7fcea176eb50>,\n",
       "  <matplotlib.lines.Line2D at 0x7fcea1708090>,\n",
       "  <matplotlib.lines.Line2D at 0x7fcea17195d0>,\n",
       "  <matplotlib.lines.Line2D at 0x7fcea1729b10>,\n",
       "  <matplotlib.lines.Line2D at 0x7fcea16c3090>],\n",
       " 'means': []}"
      ]
     },
     "execution_count": 93,
     "metadata": {},
     "output_type": "execute_result"
    },
    {
     "data": {
      "image/png": "[encoded data removed]",
      "text/plain": [
       "<Figure size 432x288 with 1 Axes>"
      ]
     },
     "metadata": {
      "needs_background": "light"
     },
     "output_type": "display_data"
    }
   ],
   "source": [
    "x_test_std = (x_test - dt_mean)/dt_std\n",
    "plt.boxplot(x_test_std, vert=False, labels=wine.feature_names)"
   ]
  },
  {
   "cell_type": "markdown",
   "metadata": {},
   "source": [
    "## kNN"
   ]
  },
  {
   "cell_type": "code",
   "execution_count": 94,
   "metadata": {},
   "outputs": [],
   "source": [
    "from sklearn.neighbors import KNeighborsClassifier"
   ]
  },
  {
   "cell_type": "code",
   "execution_count": 95,
   "metadata": {},
   "outputs": [],
   "source": [
    "clf2 = KNeighborsClassifier(n_neighbors=3, metric='minkowski', p=2)"
   ]
  },
  {
   "cell_type": "code",
   "execution_count": 99,
   "metadata": {},
   "outputs": [],
   "source": [
    "clf2 = clf2.fit(x_train_std, y_train)"
   ]
  },
  {
   "cell_type": "code",
   "execution_count": 107,
   "metadata": {},
   "outputs": [
    {
     "name": "stdout",
     "output_type": "stream",
     "text": [
      "Test accuracy: 0.98\n"
     ]
    }
   ],
   "source": [
    "prediction = clf2.predict(x_test_std)\n",
    "\n",
    "print('Test accuracy: %.2f' % (accuracy_score(prediction, y_test)))"
   ]
  },
  {
   "cell_type": "code",
   "execution_count": 139,
   "metadata": {},
   "outputs": [
    {
     "name": "stdout",
     "output_type": "stream",
     "text": [
      "Test accuracy: 1.00\n",
      "Train accuracy: 1.00\n"
     ]
    }
   ],
   "source": [
    "clf2 = KNeighborsClassifier(n_neighbors=1, metric='minkowski', p=2)\n",
    "clf2 = clf2.fit(x_train_std, y_train)\n",
    "\n",
    "prediction_test = clf2.predict(x_test_std)\n",
    "prediction_train = clf2.predict(x_train_std)\n",
    "\n",
    "print('Test accuracy: %.2f' % (accuracy_score(prediction_test, y_test)))\n",
    "print('Train accuracy: %.2f' % (accuracy_score(prediction_train, y_train)))"
   ]
  },
  {
   "cell_type": "markdown",
   "metadata": {},
   "source": [
    "## Regresja logistyczna"
   ]
  },
  {
   "cell_type": "code",
   "execution_count": 140,
   "metadata": {},
   "outputs": [],
   "source": [
    "from sklearn.linear_model import LogisticRegression"
   ]
  },
  {
   "cell_type": "code",
   "execution_count": 142,
   "metadata": {},
   "outputs": [],
   "source": [
    "clf3 = LogisticRegression()"
   ]
  },
  {
   "cell_type": "code",
   "execution_count": 143,
   "metadata": {},
   "outputs": [],
   "source": [
    "clf3 = clf3.fit(x_train_std, y_train)"
   ]
  },
  {
   "cell_type": "code",
   "execution_count": 150,
   "metadata": {},
   "outputs": [
    {
     "name": "stdout",
     "output_type": "stream",
     "text": [
      "Test accuracy: 1.00\n"
     ]
    }
   ],
   "source": [
    "prediction_lr = clf3.predict(x_test_std)\n",
    "\n",
    "print('Test accuracy: %.2f' % (accuracy_score(prediction_lr, y_test)))"
   ]
  },
  {
   "cell_type": "code",
   "execution_count": 172,
   "metadata": {},
   "outputs": [
    {
     "name": "stdout",
     "output_type": "stream",
     "text": [
      "Test accuracy: 1.00\n",
      "Train accuracy: 1.00\n"
     ]
    }
   ],
   "source": [
    "clf3 = LogisticRegression(C=0.5, solver='lbfgs', multi_class='ovr')\n",
    "clf3.fit(x_train_std, y_train)\n",
    "\n",
    "prediction_lr_train = clf3.predict(x_train_std)\n",
    "prediction_lr_test = clf3.predict(x_test_std)\n",
    "\n",
    "print('Test accuracy: %.2f' % (accuracy_score(prediction_lr_test, y_test)))\n",
    "print('Train accuracy: %.2f' % (accuracy_score(prediction_lr_train, y_train)))"
   ]
  },
  {
   "cell_type": "markdown",
   "metadata": {},
   "source": [
    "## SVM"
   ]
  },
  {
   "cell_type": "code",
   "execution_count": 173,
   "metadata": {},
   "outputs": [],
   "source": [
    "from sklearn.svm import SVC"
   ]
  },
  {
   "cell_type": "code",
   "execution_count": 174,
   "metadata": {},
   "outputs": [],
   "source": [
    "clf4 = SVC(kernel='linear')"
   ]
  },
  {
   "cell_type": "code",
   "execution_count": 175,
   "metadata": {},
   "outputs": [
    {
     "name": "stdout",
     "output_type": "stream",
     "text": [
      "Test accuracy: 0.96\n"
     ]
    }
   ],
   "source": [
    "clf4 = clf4.fit(x_train_std, y_train)\n",
    "prediction_svm = clf4.predict(x_test_std)\n",
    "\n",
    "print('Test accuracy: %.2f' % (accuracy_score(prediction_svm, y_test)))"
   ]
  },
  {
   "cell_type": "code",
   "execution_count": 201,
   "metadata": {},
   "outputs": [
    {
     "name": "stdout",
     "output_type": "stream",
     "text": [
      "Test accuracy: 1.00\n",
      "Train accuracy: 0.99\n"
     ]
    }
   ],
   "source": [
    "clf4 = SVC(C=0.05, kernel='linear')\n",
    "clf4.fit(x_train_std, y_train)\n",
    "\n",
    "prediction_svm_train = clf4.predict(x_train_std)\n",
    "prediction_svm_test = clf4.predict(x_test_std)\n",
    "\n",
    "print('Test accuracy: %.2f' % (accuracy_score(prediction_svm_test, y_test)))\n",
    "print('Train accuracy: %.2f' % (accuracy_score(prediction_svm_train, y_train)))"
   ]
  },
  {
   "cell_type": "markdown",
   "metadata": {},
   "source": [
    "# Wyniki"
   ]
  },
  {
   "cell_type": "markdown",
   "metadata": {},
   "source": [
    "### Drzewo decyzyjne"
   ]
  },
  {
   "cell_type": "code",
   "execution_count": 238,
   "metadata": {},
   "outputs": [
    {
     "data": {
      "image/png": "[encoded data removed]",
      "text/plain": [
       "<Figure size 432x288 with 1 Axes>"
      ]
     },
     "metadata": {
      "needs_background": "light"
     },
     "output_type": "display_data"
    }
   ],
   "source": [
    "depths = [1,2,3,4,5,6,7,8,9,10,11,12,13,14,15]\n",
    "\n",
    "testAccuracy = []\n",
    "trainAccuracy = []\n",
    "\n",
    "for depth in depths:\n",
    "    clf_results1 = tree.DecisionTreeClassifier(max_depth=depth)\n",
    "    clf_results1.fit(x_train, y_train)\n",
    "    pred_test_1 = clf_results1.predict(x_test)\n",
    "    pred_train_1 = clf_results1.predict(x_train)\n",
    "    testAccuracy.append(accuracy_score(y_test, pred_test_1))\n",
    "    trainAccuracy.append(accuracy_score(y_train, pred_train_1))\n",
    "    \n",
    "plt.plot(depths, trainAccuracy, 'ro-', depths, testAccuracy, 'bv-')\n",
    "plt.legend(['Train Accuracy','Test Accuracy'])\n",
    "plt.xlabel('Max depth')\n",
    "plt.ylabel('Accuracy')\n",
    "plt.show()"
   ]
  },
  {
   "cell_type": "markdown",
   "metadata": {},
   "source": [
    "### kNN"
   ]
  },
  {
   "cell_type": "code",
   "execution_count": 236,
   "metadata": {},
   "outputs": [
    {
     "data": {
      "image/png": "[encoded data removed]",
      "text/plain": [
       "<Figure size 432x288 with 1 Axes>"
      ]
     },
     "metadata": {
      "needs_background": "light"
     },
     "output_type": "display_data"
    }
   ],
   "source": [
    "neighbors = [1,2,3,4,5,6,7,8,9,10,11,12,13,14,15,16,17,18,19,20]\n",
    "\n",
    "testAccuracy2 = []\n",
    "trainAccuracy2 = []\n",
    "\n",
    "for neighbor in neighbors:\n",
    "    clf_results2 = KNeighborsClassifier(n_neighbors=neighbor, metric='minkowski', p=2)\n",
    "    clf_results2.fit(x_train_std, y_train)\n",
    "    pred_test_2 = clf_results2.predict(x_test_std)\n",
    "    pred_train_2 = clf_results2.predict(x_train_std)\n",
    "    testAccuracy2.append(accuracy_score(y_test, pred_test_2))\n",
    "    trainAccuracy2.append(accuracy_score(y_train, pred_train_2))\n",
    "    \n",
    "plt.plot(neighbors, trainAccuracy2, 'ro-', neighbors, testAccuracy2, 'bv--')\n",
    "plt.legend(['Train Accuracy','Test Accuracy'])\n",
    "plt.xlabel('Max depth')\n",
    "plt.ylabel('Accuracy')\n",
    "plt.show()"
   ]
  },
  {
   "cell_type": "markdown",
   "metadata": {},
   "source": [
    "### Regresja logistyczna"
   ]
  },
  {
   "cell_type": "code",
   "execution_count": 247,
   "metadata": {},
   "outputs": [
    {
     "data": {
      "image/png": "[encoded data removed]",
      "text/plain": [
       "<Figure size 432x288 with 1 Axes>"
      ]
     },
     "metadata": {
      "needs_background": "light"
     },
     "output_type": "display_data"
    }
   ],
   "source": [
    "parameters = [0.01,0.02,0.04,0.1,0.2,0.4,0.8,1,2,4,10,25,100]\n",
    "\n",
    "testAccuracy3 = []\n",
    "trainAccuracy3 = []\n",
    "\n",
    "for parameter in parameters:\n",
    "    clf_results3 = LogisticRegression(C=parameter, solver='lbfgs', multi_class='ovr')\n",
    "    clf_results3.fit(x_train_std, y_train)\n",
    "    pred_test_3 = clf_results3.predict(x_test_std)\n",
    "    pred_train_3 = clf_results3.predict(x_train_std)\n",
    "    testAccuracy3.append(accuracy_score(y_test, pred_test_3))\n",
    "    trainAccuracy3.append(accuracy_score(y_train, pred_train_3))\n",
    "    \n",
    "plt.plot(parameters, trainAccuracy3, 'ro-', parameters, testAccuracy3, 'bv--')\n",
    "plt.legend(['Train Accuracy','Test Accuracy'])\n",
    "plt.xlabel('Max depth')\n",
    "plt.xscale('log')\n",
    "plt.ylabel('Accuracy')\n",
    "plt.show()"
   ]
  },
  {
   "cell_type": "markdown",
   "metadata": {},
   "source": [
    "### SVM"
   ]
  },
  {
   "cell_type": "code",
   "execution_count": 244,
   "metadata": {
    "scrolled": true
   },
   "outputs": [
    {
     "data": {
      "image/png": "[encoded data removed]",
      "text/plain": [
       "<Figure size 432x288 with 1 Axes>"
      ]
     },
     "metadata": {
      "needs_background": "light"
     },
     "output_type": "display_data"
    }
   ],
   "source": [
    "parameters = [0.01,0.02,0.04,0.1,0.2,0.4,0.8,1,2,4,10,25,100]\n",
    "\n",
    "testAccuracy4 = []\n",
    "trainAccuracy4 = []\n",
    "\n",
    "for parameter in parameters:\n",
    "    clf_results4 = SVC(C=parameter, kernel='linear')\n",
    "    clf_results4.fit(x_train_std, y_train)\n",
    "    pred_test_4 = clf_results4.predict(x_test_std)\n",
    "    pred_train_4 = clf_results4.predict(x_train_std)\n",
    "    testAccuracy4.append(accuracy_score(y_test, pred_test_4))\n",
    "    trainAccuracy4.append(accuracy_score(y_train, pred_train_4))\n",
    "    \n",
    "plt.plot(parameters, trainAccuracy4, 'ro-', parameters, testAccuracy4, 'bv--')\n",
    "plt.legend(['Train Accuracy','Test Accuracy'])\n",
    "plt.xlabel('Max depth')\n",
    "plt.xscale('log')\n",
    "plt.ylabel('Accuracy')\n",
    "plt.show()"
   ]
  },
  {
   "cell_type": "markdown",
   "metadata": {},
   "source": [
    "# Najlepsze wyniki:\n",
    "\n",
    "\n",
    "Drzewo decyzyjne:\n",
    "Max Depths: <strong>3</strong>, 4, 13, 15\n",
    "\n",
    "kNN:\n",
    "Neighbors: <strong>1</strong>, 3, 4, 8, 10, 12, 18, 19\n",
    "\n",
    "Regresja logistyczna:\n",
    "C: [0.2 - 10]\n",
    "\n",
    "SVM:\n",
    "C: <strong>0.04, 0.1</strong>\n"
   ]
  }
 ],
 "metadata": {
  "kernelspec": {
   "display_name": "Python 3",
   "language": "python",
   "name": "python3"
  },
  "language_info": {
   "codemirror_mode": {
    "name": "ipython",
    "version": 3
   },
   "file_extension": ".py",
   "mimetype": "text/x-python",
   "name": "python",
   "nbconvert_exporter": "python",
   "pygments_lexer": "ipython3",
   "version": "3.7.6"
  }
 },
 "nbformat": 4,
 "nbformat_minor": 4
}
